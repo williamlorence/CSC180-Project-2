{
 "cells": [
  {
   "cell_type": "code",
   "execution_count": 9,
   "id": "1901f51b-06e4-45b7-b19b-5a195ecc4db9",
   "metadata": {},
   "outputs": [
    {
     "name": "stdout",
     "output_type": "stream",
     "text": [
      "   id       dur proto service state  spkts  dpkts  sbytes  dbytes       rate  \\\n",
      "0   1  0.121478   tcp       -   FIN      6      4     258     172  74.087490   \n",
      "1   2  0.649902   tcp       -   FIN     14     38     734   42014  78.473372   \n",
      "2   3  1.623129   tcp       -   FIN      8     16     364   13186  14.170161   \n",
      "3   4  1.681642   tcp     ftp   FIN     12     12     628     770  13.677108   \n",
      "4   5  0.449454   tcp       -   FIN     10      6     534     268  33.373826   \n",
      "\n",
      "   ...  ct_dst_sport_ltm  ct_dst_src_ltm  is_ftp_login  ct_ftp_cmd  \\\n",
      "0  ...                 1               1             0           0   \n",
      "1  ...                 1               2             0           0   \n",
      "2  ...                 1               3             0           0   \n",
      "3  ...                 1               3             1           1   \n",
      "4  ...                 1              40             0           0   \n",
      "\n",
      "   ct_flw_http_mthd  ct_src_ltm  ct_srv_dst  is_sm_ips_ports  attack_cat  \\\n",
      "0                 0           1           1                0      Normal   \n",
      "1                 0           1           6                0      Normal   \n",
      "2                 0           2           6                0      Normal   \n",
      "3                 0           2           1                0      Normal   \n",
      "4                 0           2          39                0      Normal   \n",
      "\n",
      "   label  \n",
      "0      0  \n",
      "1      0  \n",
      "2      0  \n",
      "3      0  \n",
      "4      0  \n",
      "\n",
      "[5 rows x 45 columns]\n",
      "   id       dur proto service state  spkts  dpkts  sbytes  dbytes  \\\n",
      "0   1  0.000011   udp       -   INT      2      0     496       0   \n",
      "1   2  0.000008   udp       -   INT      2      0    1762       0   \n",
      "2   3  0.000005   udp       -   INT      2      0    1068       0   \n",
      "3   4  0.000006   udp       -   INT      2      0     900       0   \n",
      "4   5  0.000010   udp       -   INT      2      0    2126       0   \n",
      "\n",
      "          rate  ...  ct_dst_sport_ltm  ct_dst_src_ltm  is_ftp_login  \\\n",
      "0   90909.0902  ...                 1               2             0   \n",
      "1  125000.0003  ...                 1               2             0   \n",
      "2  200000.0051  ...                 1               3             0   \n",
      "3  166666.6608  ...                 1               3             0   \n",
      "4  100000.0025  ...                 1               3             0   \n",
      "\n",
      "   ct_ftp_cmd  ct_flw_http_mthd  ct_src_ltm  ct_srv_dst  is_sm_ips_ports  \\\n",
      "0           0                 0           1           2                0   \n",
      "1           0                 0           1           2                0   \n",
      "2           0                 0           1           3                0   \n",
      "3           0                 0           2           3                0   \n",
      "4           0                 0           2           3                0   \n",
      "\n",
      "   attack_cat  label  \n",
      "0      Normal      0  \n",
      "1      Normal      0  \n",
      "2      Normal      0  \n",
      "3      Normal      0  \n",
      "4      Normal      0  \n",
      "\n",
      "[5 rows x 45 columns]\n"
     ]
    }
   ],
   "source": [
    "import pandas as pd\n",
    "from sklearn.feature_extraction.text import TfidfVectorizer\n",
    "from sklearn.model_selection import train_test_split\n",
    "from sklearn.metrics import mean_squared_error\n",
    "import numpy as np\n",
    "import tensorflow as tf\n",
    "import os\n",
    "from tensorflow.keras.models import load_model\n",
    "from tensorflow.keras.models import Sequential\n",
    "from tensorflow.keras.layers import Dense\n",
    "from tensorflow.keras.callbacks import EarlyStopping\n",
    "\n",
    "\n",
    "# Load the datasets\n",
    "train_data = pd.read_csv('UNSW_NB15_training-set.csv')\n",
    "test_data = pd.read_csv('UNSW_NB15_test-set.csv')\n",
    "\n",
    "#Display the first few rows\n",
    "print(train_data.head())\n",
    "print(test_data.head())\n",
    "\n"
   ]
  },
  {
   "cell_type": "code",
   "execution_count": 4,
   "id": "9f01cee8-a2b3-438b-96d8-1fbe60d4fc19",
   "metadata": {},
   "outputs": [
    {
     "name": "stdout",
     "output_type": "stream",
     "text": [
      "id                   0\n",
      "dur                  0\n",
      "proto                0\n",
      "service              0\n",
      "state                0\n",
      "spkts                0\n",
      "dpkts                0\n",
      "sbytes               0\n",
      "dbytes               0\n",
      "rate                 0\n",
      "sttl                 0\n",
      "dttl                 0\n",
      "sload                0\n",
      "dload                0\n",
      "sloss                0\n",
      "dloss                0\n",
      "sinpkt               0\n",
      "dinpkt               0\n",
      "sjit                 0\n",
      "djit                 0\n",
      "swin                 0\n",
      "stcpb                0\n",
      "dtcpb                0\n",
      "dwin                 0\n",
      "tcprtt               0\n",
      "synack               0\n",
      "ackdat               0\n",
      "smean                0\n",
      "dmean                0\n",
      "trans_depth          0\n",
      "response_body_len    0\n",
      "ct_srv_src           0\n",
      "ct_state_ttl         0\n",
      "ct_dst_ltm           0\n",
      "ct_src_dport_ltm     0\n",
      "ct_dst_sport_ltm     0\n",
      "ct_dst_src_ltm       0\n",
      "is_ftp_login         0\n",
      "ct_ftp_cmd           0\n",
      "ct_flw_http_mthd     0\n",
      "ct_src_ltm           0\n",
      "ct_srv_dst           0\n",
      "is_sm_ips_ports      0\n",
      "attack_cat           0\n",
      "label                0\n",
      "dtype: int64\n",
      "id                   0\n",
      "dur                  0\n",
      "proto                0\n",
      "service              0\n",
      "state                0\n",
      "spkts                0\n",
      "dpkts                0\n",
      "sbytes               0\n",
      "dbytes               0\n",
      "rate                 0\n",
      "sttl                 0\n",
      "dttl                 0\n",
      "sload                0\n",
      "dload                0\n",
      "sloss                0\n",
      "dloss                0\n",
      "sinpkt               0\n",
      "dinpkt               0\n",
      "sjit                 0\n",
      "djit                 0\n",
      "swin                 0\n",
      "stcpb                0\n",
      "dtcpb                0\n",
      "dwin                 0\n",
      "tcprtt               0\n",
      "synack               0\n",
      "ackdat               0\n",
      "smean                0\n",
      "dmean                0\n",
      "trans_depth          0\n",
      "response_body_len    0\n",
      "ct_srv_src           0\n",
      "ct_state_ttl         0\n",
      "ct_dst_ltm           0\n",
      "ct_src_dport_ltm     0\n",
      "ct_dst_sport_ltm     0\n",
      "ct_dst_src_ltm       0\n",
      "is_ftp_login         0\n",
      "ct_ftp_cmd           0\n",
      "ct_flw_http_mthd     0\n",
      "ct_src_ltm           0\n",
      "ct_srv_dst           0\n",
      "is_sm_ips_ports      0\n",
      "attack_cat           0\n",
      "label                0\n",
      "dtype: int64\n"
     ]
    }
   ],
   "source": [
    "#check for missing null value\n",
    "print(train_data.isnull().sum())\n",
    "print(test_data.isnull().sum())\n"
   ]
  },
  {
   "cell_type": "code",
   "execution_count": 10,
   "id": "f41aff0a-74c0-430c-a061-802f5ec01efb",
   "metadata": {},
   "outputs": [
    {
     "name": "stdout",
     "output_type": "stream",
     "text": [
      "Training features shape: (175341, 44)\n",
      "Training labels shape: (175341,)\n",
      "Testing features shape: (82332, 44)\n",
      "Testing labels shape: (82332,)\n"
     ]
    }
   ],
   "source": [
    "# Split the data into features (X) and labels (y)\n",
    "X_train = train_data.drop('label', axis=1)\n",
    "y_train = train_data['label']\n",
    "\n",
    "X_test = test_data.drop('label', axis=1)\n",
    "y_test = test_data['label']\n",
    "\n",
    "print(f\"Training features shape: {X_train.shape}\")\n",
    "print(f\"Training labels shape: {y_train.shape}\")\n",
    "print(f\"Testing features shape: {X_test.shape}\")\n",
    "print(f\"Testing labels shape: {y_test.shape}\")\n"
   ]
  },
  {
   "cell_type": "code",
   "execution_count": 11,
   "id": "949b6ae1-c86a-4b79-9496-77de18592be9",
   "metadata": {},
   "outputs": [
    {
     "name": "stdout",
     "output_type": "stream",
     "text": [
      "Number of rows in the training set: 175325\n",
      "Number of rows in the test set: 82327\n"
     ]
    }
   ],
   "source": [
    "# Define the categorical columns\n",
    "categorical_columns = ['proto', 'service', 'state', 'attack_cat']\n",
    "\n",
    "# Remove rows with categorical values not common in both training and test data\n",
    "for column in categorical_columns:\n",
    "    train_unique = set(train_data[column].unique())\n",
    "    test_unique = set(test_data[column].unique())\n",
    "    \n",
    "    common_values = train_unique.intersection(test_unique)\n",
    "    \n",
    "    # Filter the training and test sets based on common values\n",
    "    train_data = train_data[train_data[column].isin(common_values)]\n",
    "    test_data = test_data[test_data[column].isin(common_values)]\n",
    "\n",
    "# Check if the number of rows has been reduced after filtering\n",
    "print(f\"Number of rows in the training set: {len(train_data)}\")\n",
    "print(f\"Number of rows in the test set: {len(test_data)}\")\n"
   ]
  },
  {
   "cell_type": "code",
   "execution_count": 13,
   "id": "4c6e1ba7-15d8-4339-bbeb-5ff7f5d7ef51",
   "metadata": {},
   "outputs": [
    {
     "name": "stdout",
     "output_type": "stream",
     "text": [
      "Index(['proto', 'service', 'state', 'attack_cat'], dtype='object')\n",
      "proto unique values in training set: ['tcp' 'udp' 'arp' 'ospf' 'icmp' 'igmp' 'rtp' 'ddp' 'ipv6-frag' 'cftp'\n",
      " 'wsn' 'pvp' 'wb-expak' 'mtp' 'pri-enc' 'sat-mon' 'cphb' 'sun-nd' 'iso-ip'\n",
      " 'xtp' 'il' 'unas' 'mfe-nsp' '3pc' 'ipv6-route' 'idrp' 'bna' 'swipe'\n",
      " 'kryptolan' 'cpnx' 'rsvp' 'wb-mon' 'vmtp' 'ib' 'dgp' 'eigrp' 'ax.25'\n",
      " 'gmtp' 'pnni' 'sep' 'pgm' 'idpr-cmtp' 'zero' 'rvd' 'mobile' 'narp' 'fc'\n",
      " 'pipe' 'ipcomp' 'ipv6-no' 'sat-expak' 'ipv6-opts' 'snp' 'ipcv'\n",
      " 'br-sat-mon' 'ttp' 'tcf' 'nsfnet-igp' 'sprite-rpc' 'aes-sp3-d' 'sccopmce'\n",
      " 'sctp' 'qnx' 'scps' 'etherip' 'aris' 'pim' 'compaq-peer' 'vrrp' 'iatp'\n",
      " 'stp' 'l2tp' 'srp' 'sm' 'isis' 'smp' 'fire' 'ptp' 'crtp' 'sps'\n",
      " 'merit-inp' 'idpr' 'skip' 'any' 'larp' 'ipip' 'micp' 'encap' 'ifmp'\n",
      " 'tp++' 'a/n' 'ipv6' 'i-nlsp' 'ipx-n-ip' 'sdrp' 'tlsp' 'gre' 'mhrp' 'ddx'\n",
      " 'ippc' 'visa' 'secure-vmtp' 'uti' 'vines' 'crudp' 'iplt' 'ggp' 'ip'\n",
      " 'ipnip' 'st2' 'argus' 'bbn-rcc' 'egp' 'emcon' 'igp' 'nvp' 'pup' 'xnet'\n",
      " 'chaos' 'mux' 'dcn' 'hmp' 'prm' 'trunk-1' 'xns-idp' 'leaf-1' 'leaf-2'\n",
      " 'rdp' 'irtp' 'iso-tp4' 'netblt' 'trunk-2' 'cbt']\n",
      "proto unique values in test set: ['udp' 'arp' 'tcp' 'igmp' 'ospf' 'sctp' 'gre' 'ggp' 'ip' 'ipnip' 'st2'\n",
      " 'argus' 'chaos' 'egp' 'emcon' 'nvp' 'pup' 'xnet' 'mux' 'dcn' 'hmp' 'prm'\n",
      " 'trunk-1' 'trunk-2' 'xns-idp' 'leaf-1' 'leaf-2' 'irtp' 'rdp' 'netblt'\n",
      " 'mfe-nsp' 'merit-inp' '3pc' 'idpr' 'ddp' 'idpr-cmtp' 'tp++' 'ipv6' 'sdrp'\n",
      " 'ipv6-frag' 'ipv6-route' 'idrp' 'mhrp' 'i-nlsp' 'rvd' 'mobile' 'narp'\n",
      " 'skip' 'tlsp' 'ipv6-no' 'any' 'ipv6-opts' 'cftp' 'sat-expak' 'ippc'\n",
      " 'kryptolan' 'sat-mon' 'cpnx' 'wsn' 'pvp' 'br-sat-mon' 'sun-nd' 'wb-mon'\n",
      " 'vmtp' 'ttp' 'vines' 'nsfnet-igp' 'dgp' 'eigrp' 'tcf' 'sprite-rpc' 'larp'\n",
      " 'mtp' 'ax.25' 'ipip' 'aes-sp3-d' 'micp' 'encap' 'pri-enc' 'gmtp' 'ifmp'\n",
      " 'pnni' 'qnx' 'scps' 'cbt' 'bbn-rcc' 'igp' 'bna' 'swipe' 'visa' 'ipcv'\n",
      " 'cphb' 'iso-tp4' 'wb-expak' 'sep' 'secure-vmtp' 'xtp' 'il' 'rsvp' 'unas'\n",
      " 'fc' 'iso-ip' 'etherip' 'pim' 'aris' 'a/n' 'ipcomp' 'snp' 'compaq-peer'\n",
      " 'ipx-n-ip' 'pgm' 'vrrp' 'l2tp' 'zero' 'ddx' 'iatp' 'stp' 'srp' 'uti' 'sm'\n",
      " 'smp' 'isis' 'ptp' 'fire' 'crtp' 'crudp' 'sccopmce' 'iplt' 'pipe' 'sps'\n",
      " 'ib']\n",
      "service unique values in training set: ['-' 'ftp' 'smtp' 'snmp' 'http' 'ftp-data' 'dns' 'ssh' 'radius' 'pop3'\n",
      " 'dhcp' 'ssl' 'irc']\n",
      "service unique values in test set: ['-' 'http' 'ftp' 'ftp-data' 'smtp' 'pop3' 'dns' 'snmp' 'ssl' 'dhcp' 'irc'\n",
      " 'radius' 'ssh']\n",
      "state unique values in training set: ['FIN' 'INT' 'CON' 'ECO' 'REQ' 'RST' 'PAR' 'URN' 'no']\n",
      "state unique values in test set: ['INT' 'FIN' 'REQ' 'ACC' 'CON' 'RST' 'CLO']\n",
      "attack_cat unique values in training set: ['Normal' 'Backdoor' 'Analysis' 'Fuzzers' 'Shellcode' 'Reconnaissance'\n",
      " 'Exploits' 'DoS' 'Worms' 'Generic']\n",
      "attack_cat unique values in test set: ['Normal' 'Reconnaissance' 'Backdoor' 'DoS' 'Exploits' 'Analysis'\n",
      " 'Fuzzers' 'Worms' 'Shellcode' 'Generic']\n"
     ]
    }
   ],
   "source": [
    "# Handle Categorical Value (based on the project categorical values in training data may not match those in the test data\n",
    "# Find unique categorical Values\n",
    "\n",
    "categorical_columns = train_data.select_dtypes(include=['object']).columns\n",
    "print(categorical_columns)\n",
    "\n",
    "for col in categorical_columns:\n",
    "    print(f'{col} unique values in training set: {train_data[col].unique()}')\n",
    "    print(f'{col} unique values in test set: {test_data[col].unique()}')\n"
   ]
  },
  {
   "cell_type": "code",
   "execution_count": 13,
   "id": "f4185bce-e398-4792-8c8b-e880f831e04b",
   "metadata": {},
   "outputs": [
    {
     "name": "stdout",
     "output_type": "stream",
     "text": [
      "Training set: 0 rows were dropped due to missing values.\n",
      "Testing set: 0 rows were dropped due to missing values.\n"
     ]
    }
   ],
   "source": [
    "# Store the initial number of rows before dropping missing values\n",
    "initial_train_rows = len(train_data)\n",
    "initial_test_rows = len(test_data)\n",
    "\n",
    "# Drop rows with missing values\n",
    "train_data = train_data.dropna()\n",
    "test_data = test_data.dropna()\n",
    "\n",
    "# Store the final number of rows after dropping missing values\n",
    "final_train_rows = len(train_data)\n",
    "final_test_rows = len(test_data)\n",
    "\n",
    "# Print how many rows were dropped due to missing values\n",
    "print(f\"Training set: {initial_train_rows - final_train_rows} rows were dropped due to missing values.\")\n",
    "print(f\"Testing set: {initial_test_rows - final_test_rows} rows were dropped due to missing values.\")\n",
    "\n"
   ]
  },
  {
   "cell_type": "code",
   "execution_count": 14,
   "id": "85654739-8e6f-4232-9325-639ab16bf10b",
   "metadata": {},
   "outputs": [
    {
     "name": "stdout",
     "output_type": "stream",
     "text": [
      "Categorical features encoded successfully.\n",
      "Training data shape after encoding: (175325, 200)\n",
      "Testing data shape after encoding: (82327, 200)\n"
     ]
    }
   ],
   "source": [
    "# Encode Categorical Feature(requirement)\n",
    "\n",
    "# Categorical columns to be encoded\n",
    "categorical_columns = ['proto', 'service', 'state', 'attack_cat']\n",
    "\n",
    "# One-hot encode categorical features in the training data\n",
    "train_data = pd.get_dummies(train_data, columns=categorical_columns)\n",
    "\n",
    "# One-hot encode categorical features in the testing data\n",
    "test_data = pd.get_dummies(test_data, columns=categorical_columns)\n",
    "\n",
    "# Ensure that both datasets have the same columns after encoding\n",
    "train_data, test_data = train_data.align(test_data, join='inner', axis=1)\n",
    "\n",
    "print(\"Categorical features encoded successfully.\")\n",
    "print(\"Training data shape after encoding:\", train_data.shape)\n",
    "print(\"Testing data shape after encoding:\", test_data.shape)\n",
    "\n"
   ]
  },
  {
   "cell_type": "code",
   "execution_count": 15,
   "id": "22ed6d59-83a7-4c58-9d5a-58a701b2aba2",
   "metadata": {},
   "outputs": [
    {
     "name": "stdout",
     "output_type": "stream",
     "text": [
      "         id       dur     spkts     dpkts    sbytes    dbytes      rate  \\\n",
      "0 -1.732236 -0.191040 -0.104463 -0.135778 -0.049136 -0.102730 -0.576362   \n",
      "1 -1.732216 -0.109499 -0.046024  0.172576 -0.046412  0.188526 -0.576335   \n",
      "2 -1.732196  0.040678 -0.089853 -0.026948 -0.048529 -0.012142 -0.576724   \n",
      "3 -1.732177  0.049707 -0.060633 -0.063225 -0.047019 -0.098568 -0.576727   \n",
      "4 -1.732157 -0.140430 -0.075243 -0.117640 -0.047556 -0.102062 -0.576608   \n",
      "\n",
      "       sttl      dttl     sload  ...  attack_cat_Analysis  \\\n",
      "0  0.703781  1.578000 -0.389871  ...                False   \n",
      "1 -1.141967  1.559902 -0.389902  ...                False   \n",
      "2 -1.141967  1.559902 -0.389938  ...                False   \n",
      "3 -1.141967  1.559902 -0.389932  ...                False   \n",
      "4  0.723210  1.559902 -0.389901  ...                False   \n",
      "\n",
      "   attack_cat_Backdoor  attack_cat_DoS  attack_cat_Exploits  \\\n",
      "0                False           False                False   \n",
      "1                False           False                False   \n",
      "2                False           False                False   \n",
      "3                False           False                False   \n",
      "4                False           False                False   \n",
      "\n",
      "   attack_cat_Fuzzers  attack_cat_Generic  attack_cat_Normal  \\\n",
      "0               False               False               True   \n",
      "1               False               False               True   \n",
      "2               False               False               True   \n",
      "3               False               False               True   \n",
      "4               False               False               True   \n",
      "\n",
      "   attack_cat_Reconnaissance  attack_cat_Shellcode  attack_cat_Worms  \n",
      "0                      False                 False             False  \n",
      "1                      False                 False             False  \n",
      "2                      False                 False             False  \n",
      "3                      False                 False             False  \n",
      "4                      False                 False             False  \n",
      "\n",
      "[5 rows x 200 columns]\n",
      "         id       dur     spkts    dpkts    sbytes    dbytes      rate  \\\n",
      "0 -1.732047 -0.213730 -0.124459 -0.15182 -0.043685 -0.087371  0.057147   \n",
      "1 -1.732005 -0.213731 -0.124459 -0.15182 -0.036309 -0.087371  0.286526   \n",
      "2 -1.731963 -0.213731 -0.124459 -0.15182 -0.040353 -0.087371  0.791160   \n",
      "3 -1.731921 -0.213731 -0.124459 -0.15182 -0.041331 -0.087371  0.566878   \n",
      "4 -1.731879 -0.213730 -0.124459 -0.15182 -0.034189 -0.087371  0.118315   \n",
      "\n",
      "       sttl      dttl     sload  ...  attack_cat_Analysis  \\\n",
      "0  0.719434 -0.820365  0.643874  ...                False   \n",
      "1  0.719434 -0.820365  4.539209  ...                False   \n",
      "2  0.719434 -0.820365  4.391320  ...                False   \n",
      "3  0.719434 -0.820365  2.976930  ...                False   \n",
      "4  0.719434 -0.820365  4.369082  ...                False   \n",
      "\n",
      "   attack_cat_Backdoor  attack_cat_DoS  attack_cat_Exploits  \\\n",
      "0                False           False                False   \n",
      "1                False           False                False   \n",
      "2                False           False                False   \n",
      "3                False           False                False   \n",
      "4                False           False                False   \n",
      "\n",
      "   attack_cat_Fuzzers  attack_cat_Generic  attack_cat_Normal  \\\n",
      "0               False               False               True   \n",
      "1               False               False               True   \n",
      "2               False               False               True   \n",
      "3               False               False               True   \n",
      "4               False               False               True   \n",
      "\n",
      "   attack_cat_Reconnaissance  attack_cat_Shellcode  attack_cat_Worms  \n",
      "0                      False                 False             False  \n",
      "1                      False                 False             False  \n",
      "2                      False                 False             False  \n",
      "3                      False                 False             False  \n",
      "4                      False                 False             False  \n",
      "\n",
      "[5 rows x 200 columns]\n"
     ]
    }
   ],
   "source": [
    "#Normalize the Numerical Feature\n",
    "from scipy.stats import zscore\n",
    "\n",
    "# List of columns that are numerical (exclude the label and any encoded categorical columns)\n",
    "numerical_columns = train_data.select_dtypes(include=[np.number]).columns.difference(['label'])\n",
    "\n",
    "# Apply z-score normalization\n",
    "train_data[numerical_columns] = train_data[numerical_columns].apply(zscore)\n",
    "test_data[numerical_columns] = test_data[numerical_columns].apply(zscore)\n",
    "\n",
    "# Check the normalized data\n",
    "print(train_data.head())\n",
    "print(test_data.head())\n"
   ]
  },
  {
   "cell_type": "code",
   "execution_count": 17,
   "id": "6b62ae23-6e6c-490d-b5cd-f94707dde38b",
   "metadata": {},
   "outputs": [
    {
     "name": "stdout",
     "output_type": "stream",
     "text": [
      "Training data shape: (175325, 199) (175325,)\n",
      "Testing data shape: (82327, 199) (82327,)\n"
     ]
    }
   ],
   "source": [
    "# Split the training set into features and labels\n",
    "X_train = train_data.drop('label', axis=1)  # Features\n",
    "y_train = train_data['label']                 # Labels\n",
    "\n",
    "# Split the testing set into features and labels\n",
    "X_test = test_data.drop('label', axis=1)     # Features\n",
    "y_test = test_data['label']                   # Labels\n",
    "\n",
    "# Display the shapes of the new datasets\n",
    "print(\"Training data shape:\", X_train.shape, y_train.shape)\n",
    "print(\"Testing data shape:\", X_test.shape, y_test.shape)\n",
    "\n"
   ]
  },
  {
   "cell_type": "code",
   "execution_count": 19,
   "id": "f9ff6e65-9eb0-4390-b8ce-a0d09045482e",
   "metadata": {},
   "outputs": [
    {
     "name": "stdout",
     "output_type": "stream",
     "text": [
      "Training feature columns: ['id', 'dur', 'spkts', 'dpkts', 'sbytes', 'dbytes', 'rate', 'sttl', 'dttl', 'sload', 'dload', 'sloss', 'dloss', 'sinpkt', 'dinpkt', 'sjit', 'djit', 'swin', 'stcpb', 'dtcpb', 'dwin', 'tcprtt', 'synack', 'ackdat', 'smean', 'dmean', 'trans_depth', 'response_body_len', 'ct_srv_src', 'ct_state_ttl', 'ct_dst_ltm', 'ct_src_dport_ltm', 'ct_dst_sport_ltm', 'ct_dst_src_ltm', 'is_ftp_login', 'ct_ftp_cmd', 'ct_flw_http_mthd', 'ct_src_ltm', 'ct_srv_dst', 'is_sm_ips_ports', 'proto_3pc', 'proto_a/n', 'proto_aes-sp3-d', 'proto_any', 'proto_argus', 'proto_aris', 'proto_arp', 'proto_ax.25', 'proto_bbn-rcc', 'proto_bna', 'proto_br-sat-mon', 'proto_cbt', 'proto_cftp', 'proto_chaos', 'proto_compaq-peer', 'proto_cphb', 'proto_cpnx', 'proto_crtp', 'proto_crudp', 'proto_dcn', 'proto_ddp', 'proto_ddx', 'proto_dgp', 'proto_egp', 'proto_eigrp', 'proto_emcon', 'proto_encap', 'proto_etherip', 'proto_fc', 'proto_fire', 'proto_ggp', 'proto_gmtp', 'proto_gre', 'proto_hmp', 'proto_i-nlsp', 'proto_iatp', 'proto_ib', 'proto_idpr', 'proto_idpr-cmtp', 'proto_idrp', 'proto_ifmp', 'proto_igmp', 'proto_igp', 'proto_il', 'proto_ip', 'proto_ipcomp', 'proto_ipcv', 'proto_ipip', 'proto_iplt', 'proto_ipnip', 'proto_ippc', 'proto_ipv6', 'proto_ipv6-frag', 'proto_ipv6-no', 'proto_ipv6-opts', 'proto_ipv6-route', 'proto_ipx-n-ip', 'proto_irtp', 'proto_isis', 'proto_iso-ip', 'proto_iso-tp4', 'proto_kryptolan', 'proto_l2tp', 'proto_larp', 'proto_leaf-1', 'proto_leaf-2', 'proto_merit-inp', 'proto_mfe-nsp', 'proto_mhrp', 'proto_micp', 'proto_mobile', 'proto_mtp', 'proto_mux', 'proto_narp', 'proto_netblt', 'proto_nsfnet-igp', 'proto_nvp', 'proto_ospf', 'proto_pgm', 'proto_pim', 'proto_pipe', 'proto_pnni', 'proto_pri-enc', 'proto_prm', 'proto_ptp', 'proto_pup', 'proto_pvp', 'proto_qnx', 'proto_rdp', 'proto_rsvp', 'proto_rvd', 'proto_sat-expak', 'proto_sat-mon', 'proto_sccopmce', 'proto_scps', 'proto_sctp', 'proto_sdrp', 'proto_secure-vmtp', 'proto_sep', 'proto_skip', 'proto_sm', 'proto_smp', 'proto_snp', 'proto_sprite-rpc', 'proto_sps', 'proto_srp', 'proto_st2', 'proto_stp', 'proto_sun-nd', 'proto_swipe', 'proto_tcf', 'proto_tcp', 'proto_tlsp', 'proto_tp++', 'proto_trunk-1', 'proto_trunk-2', 'proto_ttp', 'proto_udp', 'proto_unas', 'proto_uti', 'proto_vines', 'proto_visa', 'proto_vmtp', 'proto_vrrp', 'proto_wb-expak', 'proto_wb-mon', 'proto_wsn', 'proto_xnet', 'proto_xns-idp', 'proto_xtp', 'proto_zero', 'service_-', 'service_dhcp', 'service_dns', 'service_ftp', 'service_ftp-data', 'service_http', 'service_irc', 'service_pop3', 'service_radius', 'service_smtp', 'service_snmp', 'service_ssh', 'service_ssl', 'state_CON', 'state_FIN', 'state_INT', 'state_REQ', 'state_RST', 'attack_cat_Analysis', 'attack_cat_Backdoor', 'attack_cat_DoS', 'attack_cat_Exploits', 'attack_cat_Fuzzers', 'attack_cat_Generic', 'attack_cat_Normal', 'attack_cat_Reconnaissance', 'attack_cat_Shellcode', 'attack_cat_Worms']\n",
      "Testing feature columns: ['id', 'dur', 'spkts', 'dpkts', 'sbytes', 'dbytes', 'rate', 'sttl', 'dttl', 'sload', 'dload', 'sloss', 'dloss', 'sinpkt', 'dinpkt', 'sjit', 'djit', 'swin', 'stcpb', 'dtcpb', 'dwin', 'tcprtt', 'synack', 'ackdat', 'smean', 'dmean', 'trans_depth', 'response_body_len', 'ct_srv_src', 'ct_state_ttl', 'ct_dst_ltm', 'ct_src_dport_ltm', 'ct_dst_sport_ltm', 'ct_dst_src_ltm', 'is_ftp_login', 'ct_ftp_cmd', 'ct_flw_http_mthd', 'ct_src_ltm', 'ct_srv_dst', 'is_sm_ips_ports', 'proto_3pc', 'proto_a/n', 'proto_aes-sp3-d', 'proto_any', 'proto_argus', 'proto_aris', 'proto_arp', 'proto_ax.25', 'proto_bbn-rcc', 'proto_bna', 'proto_br-sat-mon', 'proto_cbt', 'proto_cftp', 'proto_chaos', 'proto_compaq-peer', 'proto_cphb', 'proto_cpnx', 'proto_crtp', 'proto_crudp', 'proto_dcn', 'proto_ddp', 'proto_ddx', 'proto_dgp', 'proto_egp', 'proto_eigrp', 'proto_emcon', 'proto_encap', 'proto_etherip', 'proto_fc', 'proto_fire', 'proto_ggp', 'proto_gmtp', 'proto_gre', 'proto_hmp', 'proto_i-nlsp', 'proto_iatp', 'proto_ib', 'proto_idpr', 'proto_idpr-cmtp', 'proto_idrp', 'proto_ifmp', 'proto_igmp', 'proto_igp', 'proto_il', 'proto_ip', 'proto_ipcomp', 'proto_ipcv', 'proto_ipip', 'proto_iplt', 'proto_ipnip', 'proto_ippc', 'proto_ipv6', 'proto_ipv6-frag', 'proto_ipv6-no', 'proto_ipv6-opts', 'proto_ipv6-route', 'proto_ipx-n-ip', 'proto_irtp', 'proto_isis', 'proto_iso-ip', 'proto_iso-tp4', 'proto_kryptolan', 'proto_l2tp', 'proto_larp', 'proto_leaf-1', 'proto_leaf-2', 'proto_merit-inp', 'proto_mfe-nsp', 'proto_mhrp', 'proto_micp', 'proto_mobile', 'proto_mtp', 'proto_mux', 'proto_narp', 'proto_netblt', 'proto_nsfnet-igp', 'proto_nvp', 'proto_ospf', 'proto_pgm', 'proto_pim', 'proto_pipe', 'proto_pnni', 'proto_pri-enc', 'proto_prm', 'proto_ptp', 'proto_pup', 'proto_pvp', 'proto_qnx', 'proto_rdp', 'proto_rsvp', 'proto_rvd', 'proto_sat-expak', 'proto_sat-mon', 'proto_sccopmce', 'proto_scps', 'proto_sctp', 'proto_sdrp', 'proto_secure-vmtp', 'proto_sep', 'proto_skip', 'proto_sm', 'proto_smp', 'proto_snp', 'proto_sprite-rpc', 'proto_sps', 'proto_srp', 'proto_st2', 'proto_stp', 'proto_sun-nd', 'proto_swipe', 'proto_tcf', 'proto_tcp', 'proto_tlsp', 'proto_tp++', 'proto_trunk-1', 'proto_trunk-2', 'proto_ttp', 'proto_udp', 'proto_unas', 'proto_uti', 'proto_vines', 'proto_visa', 'proto_vmtp', 'proto_vrrp', 'proto_wb-expak', 'proto_wb-mon', 'proto_wsn', 'proto_xnet', 'proto_xns-idp', 'proto_xtp', 'proto_zero', 'service_-', 'service_dhcp', 'service_dns', 'service_ftp', 'service_ftp-data', 'service_http', 'service_irc', 'service_pop3', 'service_radius', 'service_smtp', 'service_snmp', 'service_ssh', 'service_ssl', 'state_CON', 'state_FIN', 'state_INT', 'state_REQ', 'state_RST', 'attack_cat_Analysis', 'attack_cat_Backdoor', 'attack_cat_DoS', 'attack_cat_Exploits', 'attack_cat_Fuzzers', 'attack_cat_Generic', 'attack_cat_Normal', 'attack_cat_Reconnaissance', 'attack_cat_Shellcode', 'attack_cat_Worms']\n"
     ]
    }
   ],
   "source": [
    "\n",
    "# Check the actual column names\n",
    "print(\"Training feature columns:\", X_train.columns.tolist())\n",
    "print(\"Testing feature columns:\", X_test.columns.tolist())\n",
    "\n"
   ]
  },
  {
   "cell_type": "code",
   "execution_count": 24,
   "id": "d2bf244d-37ab-4ddc-a815-29151523a07b",
   "metadata": {},
   "outputs": [],
   "source": [
    "# Update this list with actual categorical column names from your dataset\n",
    "categorical_columns = [\n",
    "    'proto_3pc', 'proto_a/n', 'proto_aes-sp3-d', 'proto_any', 'proto_argus',\n",
    "    'proto_aris', 'proto_arp', 'proto_ax.25', 'proto_bbn-rcc', 'proto_bna',\n",
    "    'proto_br-sat-mon', 'proto_cbt', 'proto_cftp', 'proto_chaos', \n",
    "    'service_-', 'service_dhcp', 'service_dns', 'service_ftp', \n",
    "    'state_CON', 'state_FIN', 'state_INT', 'attack_cat_Analysis', \n",
    "    'attack_cat_Backdoor', 'attack_cat_DoS', 'attack_cat_Exploits', \n",
    "    'attack_cat_Fuzzers', 'attack_cat_Generic', 'attack_cat_Normal',\n",
    "    'attack_cat_Reconnaissance', 'attack_cat_Shellcode', 'attack_cat_Worms'\n",
    "]\n"
   ]
  },
  {
   "cell_type": "code",
   "execution_count": 25,
   "id": "2598c478-74a3-4a20-ab41-be7caf3871e0",
   "metadata": {},
   "outputs": [],
   "source": [
    "# Remove records with unique categorical values in training or test sets\n",
    "for column in categorical_columns:\n",
    "    # Get unique values in training and test sets\n",
    "    unique_values_training = set(X_train[column].unique())\n",
    "    unique_values_test = set(X_test[column].unique())\n",
    "\n",
    "    # Find common values\n",
    "    common_values = unique_values_training.intersection(unique_values_test)\n",
    "\n",
    "    # Filter out records not in common values\n",
    "    X_train = X_train[X_train[column].isin(common_values)]\n",
    "    X_test = X_test[X_test[column].isin(common_values)]\n"
   ]
  },
  {
   "cell_type": "code",
   "execution_count": 26,
   "id": "3213ee17-6121-4dc6-bacf-51424b7950c4",
   "metadata": {},
   "outputs": [
    {
     "name": "stdout",
     "output_type": "stream",
     "text": [
      "Before filtering:\n",
      "Training data shape: (175325, 199)\n",
      "Testing data shape: (82327, 199)\n",
      "After filtering:\n",
      "Training data shape: (175325, 199)\n",
      "Testing data shape: (82327, 199)\n"
     ]
    }
   ],
   "source": [
    "#Verify if any rows were removed.\n",
    "\n",
    "# Print shapes before filtering\n",
    "print(\"Before filtering:\")\n",
    "print(\"Training data shape:\", X_train.shape)\n",
    "print(\"Testing data shape:\", X_test.shape)\n",
    "\n",
    "# (Your filtering code goes here)\n",
    "\n",
    "# Print shapes after filtering\n",
    "print(\"After filtering:\")\n",
    "print(\"Training data shape:\", X_train.shape)\n",
    "print(\"Testing data shape:\", X_test.shape)\n"
   ]
  },
  {
   "cell_type": "code",
   "execution_count": 27,
   "id": "1b997eee-2ed7-4dd4-8db0-33023be4fab8",
   "metadata": {},
   "outputs": [
    {
     "name": "stdout",
     "output_type": "stream",
     "text": [
      "Training dataset columns:\n",
      "['id', 'dur', 'spkts', 'dpkts', 'sbytes', 'dbytes', 'rate', 'sttl', 'dttl', 'sload', 'dload', 'sloss', 'dloss', 'sinpkt', 'dinpkt', 'sjit', 'djit', 'swin', 'stcpb', 'dtcpb', 'dwin', 'tcprtt', 'synack', 'ackdat', 'smean', 'dmean', 'trans_depth', 'response_body_len', 'ct_srv_src', 'ct_state_ttl', 'ct_dst_ltm', 'ct_src_dport_ltm', 'ct_dst_sport_ltm', 'ct_dst_src_ltm', 'is_ftp_login', 'ct_ftp_cmd', 'ct_flw_http_mthd', 'ct_src_ltm', 'ct_srv_dst', 'is_sm_ips_ports', 'proto_3pc', 'proto_a/n', 'proto_aes-sp3-d', 'proto_any', 'proto_argus', 'proto_aris', 'proto_arp', 'proto_ax.25', 'proto_bbn-rcc', 'proto_bna', 'proto_br-sat-mon', 'proto_cbt', 'proto_cftp', 'proto_chaos', 'proto_compaq-peer', 'proto_cphb', 'proto_cpnx', 'proto_crtp', 'proto_crudp', 'proto_dcn', 'proto_ddp', 'proto_ddx', 'proto_dgp', 'proto_egp', 'proto_eigrp', 'proto_emcon', 'proto_encap', 'proto_etherip', 'proto_fc', 'proto_fire', 'proto_ggp', 'proto_gmtp', 'proto_gre', 'proto_hmp', 'proto_i-nlsp', 'proto_iatp', 'proto_ib', 'proto_idpr', 'proto_idpr-cmtp', 'proto_idrp', 'proto_ifmp', 'proto_igmp', 'proto_igp', 'proto_il', 'proto_ip', 'proto_ipcomp', 'proto_ipcv', 'proto_ipip', 'proto_iplt', 'proto_ipnip', 'proto_ippc', 'proto_ipv6', 'proto_ipv6-frag', 'proto_ipv6-no', 'proto_ipv6-opts', 'proto_ipv6-route', 'proto_ipx-n-ip', 'proto_irtp', 'proto_isis', 'proto_iso-ip', 'proto_iso-tp4', 'proto_kryptolan', 'proto_l2tp', 'proto_larp', 'proto_leaf-1', 'proto_leaf-2', 'proto_merit-inp', 'proto_mfe-nsp', 'proto_mhrp', 'proto_micp', 'proto_mobile', 'proto_mtp', 'proto_mux', 'proto_narp', 'proto_netblt', 'proto_nsfnet-igp', 'proto_nvp', 'proto_ospf', 'proto_pgm', 'proto_pim', 'proto_pipe', 'proto_pnni', 'proto_pri-enc', 'proto_prm', 'proto_ptp', 'proto_pup', 'proto_pvp', 'proto_qnx', 'proto_rdp', 'proto_rsvp', 'proto_rvd', 'proto_sat-expak', 'proto_sat-mon', 'proto_sccopmce', 'proto_scps', 'proto_sctp', 'proto_sdrp', 'proto_secure-vmtp', 'proto_sep', 'proto_skip', 'proto_sm', 'proto_smp', 'proto_snp', 'proto_sprite-rpc', 'proto_sps', 'proto_srp', 'proto_st2', 'proto_stp', 'proto_sun-nd', 'proto_swipe', 'proto_tcf', 'proto_tcp', 'proto_tlsp', 'proto_tp++', 'proto_trunk-1', 'proto_trunk-2', 'proto_ttp', 'proto_udp', 'proto_unas', 'proto_uti', 'proto_vines', 'proto_visa', 'proto_vmtp', 'proto_vrrp', 'proto_wb-expak', 'proto_wb-mon', 'proto_wsn', 'proto_xnet', 'proto_xns-idp', 'proto_xtp', 'proto_zero', 'service_-', 'service_dhcp', 'service_dns', 'service_ftp', 'service_ftp-data', 'service_http', 'service_irc', 'service_pop3', 'service_radius', 'service_smtp', 'service_snmp', 'service_ssh', 'service_ssl', 'state_CON', 'state_FIN', 'state_INT', 'state_REQ', 'state_RST', 'attack_cat_Analysis', 'attack_cat_Backdoor', 'attack_cat_DoS', 'attack_cat_Exploits', 'attack_cat_Fuzzers', 'attack_cat_Generic', 'attack_cat_Normal', 'attack_cat_Reconnaissance', 'attack_cat_Shellcode', 'attack_cat_Worms']\n",
      "\n",
      "Testing dataset columns:\n",
      "['id', 'dur', 'spkts', 'dpkts', 'sbytes', 'dbytes', 'rate', 'sttl', 'dttl', 'sload', 'dload', 'sloss', 'dloss', 'sinpkt', 'dinpkt', 'sjit', 'djit', 'swin', 'stcpb', 'dtcpb', 'dwin', 'tcprtt', 'synack', 'ackdat', 'smean', 'dmean', 'trans_depth', 'response_body_len', 'ct_srv_src', 'ct_state_ttl', 'ct_dst_ltm', 'ct_src_dport_ltm', 'ct_dst_sport_ltm', 'ct_dst_src_ltm', 'is_ftp_login', 'ct_ftp_cmd', 'ct_flw_http_mthd', 'ct_src_ltm', 'ct_srv_dst', 'is_sm_ips_ports', 'proto_3pc', 'proto_a/n', 'proto_aes-sp3-d', 'proto_any', 'proto_argus', 'proto_aris', 'proto_arp', 'proto_ax.25', 'proto_bbn-rcc', 'proto_bna', 'proto_br-sat-mon', 'proto_cbt', 'proto_cftp', 'proto_chaos', 'proto_compaq-peer', 'proto_cphb', 'proto_cpnx', 'proto_crtp', 'proto_crudp', 'proto_dcn', 'proto_ddp', 'proto_ddx', 'proto_dgp', 'proto_egp', 'proto_eigrp', 'proto_emcon', 'proto_encap', 'proto_etherip', 'proto_fc', 'proto_fire', 'proto_ggp', 'proto_gmtp', 'proto_gre', 'proto_hmp', 'proto_i-nlsp', 'proto_iatp', 'proto_ib', 'proto_idpr', 'proto_idpr-cmtp', 'proto_idrp', 'proto_ifmp', 'proto_igmp', 'proto_igp', 'proto_il', 'proto_ip', 'proto_ipcomp', 'proto_ipcv', 'proto_ipip', 'proto_iplt', 'proto_ipnip', 'proto_ippc', 'proto_ipv6', 'proto_ipv6-frag', 'proto_ipv6-no', 'proto_ipv6-opts', 'proto_ipv6-route', 'proto_ipx-n-ip', 'proto_irtp', 'proto_isis', 'proto_iso-ip', 'proto_iso-tp4', 'proto_kryptolan', 'proto_l2tp', 'proto_larp', 'proto_leaf-1', 'proto_leaf-2', 'proto_merit-inp', 'proto_mfe-nsp', 'proto_mhrp', 'proto_micp', 'proto_mobile', 'proto_mtp', 'proto_mux', 'proto_narp', 'proto_netblt', 'proto_nsfnet-igp', 'proto_nvp', 'proto_ospf', 'proto_pgm', 'proto_pim', 'proto_pipe', 'proto_pnni', 'proto_pri-enc', 'proto_prm', 'proto_ptp', 'proto_pup', 'proto_pvp', 'proto_qnx', 'proto_rdp', 'proto_rsvp', 'proto_rvd', 'proto_sat-expak', 'proto_sat-mon', 'proto_sccopmce', 'proto_scps', 'proto_sctp', 'proto_sdrp', 'proto_secure-vmtp', 'proto_sep', 'proto_skip', 'proto_sm', 'proto_smp', 'proto_snp', 'proto_sprite-rpc', 'proto_sps', 'proto_srp', 'proto_st2', 'proto_stp', 'proto_sun-nd', 'proto_swipe', 'proto_tcf', 'proto_tcp', 'proto_tlsp', 'proto_tp++', 'proto_trunk-1', 'proto_trunk-2', 'proto_ttp', 'proto_udp', 'proto_unas', 'proto_uti', 'proto_vines', 'proto_visa', 'proto_vmtp', 'proto_vrrp', 'proto_wb-expak', 'proto_wb-mon', 'proto_wsn', 'proto_xnet', 'proto_xns-idp', 'proto_xtp', 'proto_zero', 'service_-', 'service_dhcp', 'service_dns', 'service_ftp', 'service_ftp-data', 'service_http', 'service_irc', 'service_pop3', 'service_radius', 'service_smtp', 'service_snmp', 'service_ssh', 'service_ssl', 'state_CON', 'state_FIN', 'state_INT', 'state_REQ', 'state_RST', 'attack_cat_Analysis', 'attack_cat_Backdoor', 'attack_cat_DoS', 'attack_cat_Exploits', 'attack_cat_Fuzzers', 'attack_cat_Generic', 'attack_cat_Normal', 'attack_cat_Reconnaissance', 'attack_cat_Shellcode', 'attack_cat_Worms']\n",
      "\n",
      "Training dataset preview:\n",
      "         id       dur     spkts     dpkts    sbytes    dbytes      rate  \\\n",
      "0 -1.732236 -0.191040 -0.104463 -0.135778 -0.049136 -0.102730 -0.576362   \n",
      "1 -1.732216 -0.109499 -0.046024  0.172576 -0.046412  0.188526 -0.576335   \n",
      "2 -1.732196  0.040678 -0.089853 -0.026948 -0.048529 -0.012142 -0.576724   \n",
      "3 -1.732177  0.049707 -0.060633 -0.063225 -0.047019 -0.098568 -0.576727   \n",
      "4 -1.732157 -0.140430 -0.075243 -0.117640 -0.047556 -0.102062 -0.576608   \n",
      "\n",
      "       sttl      dttl     sload  ...  attack_cat_Analysis  \\\n",
      "0  0.703781  1.578000 -0.389871  ...                False   \n",
      "1 -1.141967  1.559902 -0.389902  ...                False   \n",
      "2 -1.141967  1.559902 -0.389938  ...                False   \n",
      "3 -1.141967  1.559902 -0.389932  ...                False   \n",
      "4  0.723210  1.559902 -0.389901  ...                False   \n",
      "\n",
      "   attack_cat_Backdoor  attack_cat_DoS  attack_cat_Exploits  \\\n",
      "0                False           False                False   \n",
      "1                False           False                False   \n",
      "2                False           False                False   \n",
      "3                False           False                False   \n",
      "4                False           False                False   \n",
      "\n",
      "   attack_cat_Fuzzers  attack_cat_Generic  attack_cat_Normal  \\\n",
      "0               False               False               True   \n",
      "1               False               False               True   \n",
      "2               False               False               True   \n",
      "3               False               False               True   \n",
      "4               False               False               True   \n",
      "\n",
      "   attack_cat_Reconnaissance  attack_cat_Shellcode  attack_cat_Worms  \n",
      "0                      False                 False             False  \n",
      "1                      False                 False             False  \n",
      "2                      False                 False             False  \n",
      "3                      False                 False             False  \n",
      "4                      False                 False             False  \n",
      "\n",
      "[5 rows x 199 columns]\n",
      "\n",
      "Testing dataset preview:\n",
      "         id       dur     spkts    dpkts    sbytes    dbytes      rate  \\\n",
      "0 -1.732047 -0.213730 -0.124459 -0.15182 -0.043685 -0.087371  0.057147   \n",
      "1 -1.732005 -0.213731 -0.124459 -0.15182 -0.036309 -0.087371  0.286526   \n",
      "2 -1.731963 -0.213731 -0.124459 -0.15182 -0.040353 -0.087371  0.791160   \n",
      "3 -1.731921 -0.213731 -0.124459 -0.15182 -0.041331 -0.087371  0.566878   \n",
      "4 -1.731879 -0.213730 -0.124459 -0.15182 -0.034189 -0.087371  0.118315   \n",
      "\n",
      "       sttl      dttl     sload  ...  attack_cat_Analysis  \\\n",
      "0  0.719434 -0.820365  0.643874  ...                False   \n",
      "1  0.719434 -0.820365  4.539209  ...                False   \n",
      "2  0.719434 -0.820365  4.391320  ...                False   \n",
      "3  0.719434 -0.820365  2.976930  ...                False   \n",
      "4  0.719434 -0.820365  4.369082  ...                False   \n",
      "\n",
      "   attack_cat_Backdoor  attack_cat_DoS  attack_cat_Exploits  \\\n",
      "0                False           False                False   \n",
      "1                False           False                False   \n",
      "2                False           False                False   \n",
      "3                False           False                False   \n",
      "4                False           False                False   \n",
      "\n",
      "   attack_cat_Fuzzers  attack_cat_Generic  attack_cat_Normal  \\\n",
      "0               False               False               True   \n",
      "1               False               False               True   \n",
      "2               False               False               True   \n",
      "3               False               False               True   \n",
      "4               False               False               True   \n",
      "\n",
      "   attack_cat_Reconnaissance  attack_cat_Shellcode  attack_cat_Worms  \n",
      "0                      False                 False             False  \n",
      "1                      False                 False             False  \n",
      "2                      False                 False             False  \n",
      "3                      False                 False             False  \n",
      "4                      False                 False             False  \n",
      "\n",
      "[5 rows x 199 columns]\n"
     ]
    }
   ],
   "source": [
    "# double check the column names in x-train and  x-test \n",
    "\n",
    "# Display the first few rows and the columns of the training and testing datasets\n",
    "print(\"Training dataset columns:\")\n",
    "print(X_train.columns.tolist())\n",
    "\n",
    "print(\"\\nTesting dataset columns:\")\n",
    "print(X_test.columns.tolist())\n",
    "\n",
    "print(\"\\nTraining dataset preview:\")\n",
    "print(X_train.head())\n",
    "\n",
    "print(\"\\nTesting dataset preview:\")\n",
    "print(X_test.head())\n"
   ]
  },
  {
   "cell_type": "code",
   "execution_count": 29,
   "id": "9fda9af5-3848-4ec1-b3bd-202168ebbcae",
   "metadata": {},
   "outputs": [
    {
     "name": "stdout",
     "output_type": "stream",
     "text": [
      "Processed Training data shape: (175325, 199)\n",
      "Processed Testing data shape: (82327, 199)\n",
      "\n",
      "Processed Training dataset preview:\n",
      "         id       dur     spkts     dpkts    sbytes    dbytes      rate  \\\n",
      "0  0.000000  0.002025  0.000520  0.000364  0.000016  0.000012  0.000074   \n",
      "1  0.000006  0.010832  0.001352  0.003463  0.000053  0.002867  0.000078   \n",
      "2  0.000011  0.027052  0.000728  0.001458  0.000025  0.000900  0.000014   \n",
      "3  0.000017  0.028027  0.001144  0.001093  0.000045  0.000053  0.000014   \n",
      "4  0.000023  0.007491  0.000936  0.000547  0.000038  0.000018  0.000033   \n",
      "\n",
      "       sttl      dttl         sload  ...  attack_cat_Analysis_True  \\\n",
      "0  0.988235  1.000000  2.364553e-06  ...                     False   \n",
      "1  0.243137  0.992126  1.401989e-06  ...                     False   \n",
      "2  0.243137  0.992126  2.625704e-07  ...                     False   \n",
      "3  0.243137  0.992126  4.576117e-07  ...                     False   \n",
      "4  0.996078  0.992126  1.429776e-06  ...                     False   \n",
      "\n",
      "   attack_cat_Backdoor_True  attack_cat_DoS_True  attack_cat_Exploits_True  \\\n",
      "0                     False                False                     False   \n",
      "1                     False                False                     False   \n",
      "2                     False                False                     False   \n",
      "3                     False                False                     False   \n",
      "4                     False                False                     False   \n",
      "\n",
      "   attack_cat_Fuzzers_True  attack_cat_Generic_True  attack_cat_Normal_True  \\\n",
      "0                    False                    False                    True   \n",
      "1                    False                    False                    True   \n",
      "2                    False                    False                    True   \n",
      "3                    False                    False                    True   \n",
      "4                    False                    False                    True   \n",
      "\n",
      "   attack_cat_Reconnaissance_True  attack_cat_Shellcode_True  \\\n",
      "0                           False                      False   \n",
      "1                           False                      False   \n",
      "2                           False                      False   \n",
      "3                           False                      False   \n",
      "4                           False                      False   \n",
      "\n",
      "   attack_cat_Worms_True  \n",
      "0                  False  \n",
      "1                  False  \n",
      "2                  False  \n",
      "3                  False  \n",
      "4                  False  \n",
      "\n",
      "[5 rows x 199 columns]\n",
      "\n",
      "Processed Testing dataset preview:\n",
      "         id       dur     spkts     dpkts    sbytes    dbytes      rate  \\\n",
      "0  0.000054 -0.000426  0.000235  0.000203  0.000090  0.000162  0.104850   \n",
      "1  0.000067 -0.000426  0.000235  0.000203  0.000189  0.000162  0.142787   \n",
      "2  0.000079 -0.000426  0.000235  0.000203  0.000135  0.000162  0.226249   \n",
      "3  0.000091 -0.000426  0.000235  0.000203  0.000122  0.000162  0.189155   \n",
      "4  0.000103 -0.000426  0.000235  0.000203  0.000218  0.000162  0.114967   \n",
      "\n",
      "       sttl      dttl     sload  ...  attack_cat_Analysis_True  \\\n",
      "0  0.994554 -0.043468  0.032520  ...                     False   \n",
      "1  0.994554 -0.043468  0.155052  ...                     False   \n",
      "2  0.994554 -0.043468  0.150400  ...                     False   \n",
      "3  0.994554 -0.043468  0.105909  ...                     False   \n",
      "4  0.994554 -0.043468  0.149700  ...                     False   \n",
      "\n",
      "   attack_cat_Backdoor_True  attack_cat_DoS_True  attack_cat_Exploits_True  \\\n",
      "0                     False                False                     False   \n",
      "1                     False                False                     False   \n",
      "2                     False                False                     False   \n",
      "3                     False                False                     False   \n",
      "4                     False                False                     False   \n",
      "\n",
      "   attack_cat_Fuzzers_True  attack_cat_Generic_True  attack_cat_Normal_True  \\\n",
      "0                    False                    False                    True   \n",
      "1                    False                    False                    True   \n",
      "2                    False                    False                    True   \n",
      "3                    False                    False                    True   \n",
      "4                    False                    False                    True   \n",
      "\n",
      "   attack_cat_Reconnaissance_True  attack_cat_Shellcode_True  \\\n",
      "0                           False                      False   \n",
      "1                           False                      False   \n",
      "2                           False                      False   \n",
      "3                           False                      False   \n",
      "4                           False                      False   \n",
      "\n",
      "   attack_cat_Worms_True  \n",
      "0                  False  \n",
      "1                  False  \n",
      "2                  False  \n",
      "3                  False  \n",
      "4                  False  \n",
      "\n",
      "[5 rows x 199 columns]\n"
     ]
    }
   ],
   "source": [
    "# Filter categorical values that do not match between training and testing datasets\n",
    "for col in categorical_columns:\n",
    "    train_unique_values = set(X_train[col].unique())\n",
    "    test_unique_values = set(X_test[col].unique())\n",
    "    # Keep only the rows with values present in both datasets\n",
    "    X_train = X_train[X_train[col].isin(test_unique_values)]\n",
    "    X_test = X_test[X_test[col].isin(train_unique_values)]\n",
    "\n",
    "# Drop any rows with missing values\n",
    "X_train.dropna(inplace=True)\n",
    "X_test.dropna(inplace=True)\n",
    "\n",
    "# Encode categorical features using one-hot encoding\n",
    "X_train = pd.get_dummies(X_train, columns=categorical_columns, drop_first=True)\n",
    "X_test = pd.get_dummies(X_test, columns=categorical_columns, drop_first=True)\n",
    "\n",
    "# Align columns in training and testing datasets to handle any discrepancies\n",
    "X_train, X_test = X_train.align(X_test, join='left', axis=1, fill_value=0)\n",
    "\n",
    "# Normalize numeric features (example using MinMaxScaler)\n",
    "from sklearn.preprocessing import MinMaxScaler\n",
    "\n",
    "scaler = MinMaxScaler()\n",
    "numeric_columns = X_train.select_dtypes(include=['float64', 'int64']).columns.tolist()\n",
    "X_train[numeric_columns] = scaler.fit_transform(X_train[numeric_columns])\n",
    "X_test[numeric_columns] = scaler.transform(X_test[numeric_columns])\n",
    "\n",
    "# Display the shapes of the processed datasets\n",
    "print(\"Processed Training data shape:\", X_train.shape)\n",
    "print(\"Processed Testing data shape:\", X_test.shape)\n",
    "\n",
    "# Display the first few rows of the processed datasets\n",
    "print(\"\\nProcessed Training dataset preview:\")\n",
    "print(X_train.head())\n",
    "\n",
    "print(\"\\nProcessed Testing dataset preview:\")\n",
    "print(X_test.head())\n",
    "\n"
   ]
  },
  {
   "cell_type": "code",
   "execution_count": 30,
   "id": "d91ac043-0e47-4a8a-b2f4-c97862a8f66f",
   "metadata": {},
   "outputs": [
    {
     "name": "stderr",
     "output_type": "stream",
     "text": [
      "C:\\Users\\Admin\\anaconda3\\envs\\tf_env\\Lib\\site-packages\\keras\\src\\layers\\core\\input_layer.py:26: UserWarning: Argument `input_shape` is deprecated. Use `shape` instead.\n",
      "  warnings.warn(\n"
     ]
    },
    {
     "data": {
      "text/html": [
       "<pre style=\"white-space:pre;overflow-x:auto;line-height:normal;font-family:Menlo,'DejaVu Sans Mono',consolas,'Courier New',monospace\"><span style=\"font-weight: bold\">Model: \"sequential\"</span>\n",
       "</pre>\n"
      ],
      "text/plain": [
       "\u001b[1mModel: \"sequential\"\u001b[0m\n"
      ]
     },
     "metadata": {},
     "output_type": "display_data"
    },
    {
     "data": {
      "text/html": [
       "<pre style=\"white-space:pre;overflow-x:auto;line-height:normal;font-family:Menlo,'DejaVu Sans Mono',consolas,'Courier New',monospace\">┏━━━━━━━━━━━━━━━━━━━━━━━━━━━━━━━━━━━━━━┳━━━━━━━━━━━━━━━━━━━━━━━━━━━━━┳━━━━━━━━━━━━━━━━━┓\n",
       "┃<span style=\"font-weight: bold\"> Layer (type)                         </span>┃<span style=\"font-weight: bold\"> Output Shape                </span>┃<span style=\"font-weight: bold\">         Param # </span>┃\n",
       "┡━━━━━━━━━━━━━━━━━━━━━━━━━━━━━━━━━━━━━━╇━━━━━━━━━━━━━━━━━━━━━━━━━━━━━╇━━━━━━━━━━━━━━━━━┩\n",
       "│ dense (<span style=\"color: #0087ff; text-decoration-color: #0087ff\">Dense</span>)                        │ (<span style=\"color: #00d7ff; text-decoration-color: #00d7ff\">None</span>, <span style=\"color: #00af00; text-decoration-color: #00af00\">64</span>)                  │          <span style=\"color: #00af00; text-decoration-color: #00af00\">12,800</span> │\n",
       "├──────────────────────────────────────┼─────────────────────────────┼─────────────────┤\n",
       "│ dense_1 (<span style=\"color: #0087ff; text-decoration-color: #0087ff\">Dense</span>)                      │ (<span style=\"color: #00d7ff; text-decoration-color: #00d7ff\">None</span>, <span style=\"color: #00af00; text-decoration-color: #00af00\">32</span>)                  │           <span style=\"color: #00af00; text-decoration-color: #00af00\">2,080</span> │\n",
       "├──────────────────────────────────────┼─────────────────────────────┼─────────────────┤\n",
       "│ dense_2 (<span style=\"color: #0087ff; text-decoration-color: #0087ff\">Dense</span>)                      │ (<span style=\"color: #00d7ff; text-decoration-color: #00d7ff\">None</span>, <span style=\"color: #00af00; text-decoration-color: #00af00\">16</span>)                  │             <span style=\"color: #00af00; text-decoration-color: #00af00\">528</span> │\n",
       "├──────────────────────────────────────┼─────────────────────────────┼─────────────────┤\n",
       "│ dense_3 (<span style=\"color: #0087ff; text-decoration-color: #0087ff\">Dense</span>)                      │ (<span style=\"color: #00d7ff; text-decoration-color: #00d7ff\">None</span>, <span style=\"color: #00af00; text-decoration-color: #00af00\">1</span>)                   │              <span style=\"color: #00af00; text-decoration-color: #00af00\">17</span> │\n",
       "└──────────────────────────────────────┴─────────────────────────────┴─────────────────┘\n",
       "</pre>\n"
      ],
      "text/plain": [
       "┏━━━━━━━━━━━━━━━━━━━━━━━━━━━━━━━━━━━━━━┳━━━━━━━━━━━━━━━━━━━━━━━━━━━━━┳━━━━━━━━━━━━━━━━━┓\n",
       "┃\u001b[1m \u001b[0m\u001b[1mLayer (type)                        \u001b[0m\u001b[1m \u001b[0m┃\u001b[1m \u001b[0m\u001b[1mOutput Shape               \u001b[0m\u001b[1m \u001b[0m┃\u001b[1m \u001b[0m\u001b[1m        Param #\u001b[0m\u001b[1m \u001b[0m┃\n",
       "┡━━━━━━━━━━━━━━━━━━━━━━━━━━━━━━━━━━━━━━╇━━━━━━━━━━━━━━━━━━━━━━━━━━━━━╇━━━━━━━━━━━━━━━━━┩\n",
       "│ dense (\u001b[38;5;33mDense\u001b[0m)                        │ (\u001b[38;5;45mNone\u001b[0m, \u001b[38;5;34m64\u001b[0m)                  │          \u001b[38;5;34m12,800\u001b[0m │\n",
       "├──────────────────────────────────────┼─────────────────────────────┼─────────────────┤\n",
       "│ dense_1 (\u001b[38;5;33mDense\u001b[0m)                      │ (\u001b[38;5;45mNone\u001b[0m, \u001b[38;5;34m32\u001b[0m)                  │           \u001b[38;5;34m2,080\u001b[0m │\n",
       "├──────────────────────────────────────┼─────────────────────────────┼─────────────────┤\n",
       "│ dense_2 (\u001b[38;5;33mDense\u001b[0m)                      │ (\u001b[38;5;45mNone\u001b[0m, \u001b[38;5;34m16\u001b[0m)                  │             \u001b[38;5;34m528\u001b[0m │\n",
       "├──────────────────────────────────────┼─────────────────────────────┼─────────────────┤\n",
       "│ dense_3 (\u001b[38;5;33mDense\u001b[0m)                      │ (\u001b[38;5;45mNone\u001b[0m, \u001b[38;5;34m1\u001b[0m)                   │              \u001b[38;5;34m17\u001b[0m │\n",
       "└──────────────────────────────────────┴─────────────────────────────┴─────────────────┘\n"
      ]
     },
     "metadata": {},
     "output_type": "display_data"
    },
    {
     "data": {
      "text/html": [
       "<pre style=\"white-space:pre;overflow-x:auto;line-height:normal;font-family:Menlo,'DejaVu Sans Mono',consolas,'Courier New',monospace\"><span style=\"font-weight: bold\"> Total params: </span><span style=\"color: #00af00; text-decoration-color: #00af00\">15,425</span> (60.25 KB)\n",
       "</pre>\n"
      ],
      "text/plain": [
       "\u001b[1m Total params: \u001b[0m\u001b[38;5;34m15,425\u001b[0m (60.25 KB)\n"
      ]
     },
     "metadata": {},
     "output_type": "display_data"
    },
    {
     "data": {
      "text/html": [
       "<pre style=\"white-space:pre;overflow-x:auto;line-height:normal;font-family:Menlo,'DejaVu Sans Mono',consolas,'Courier New',monospace\"><span style=\"font-weight: bold\"> Trainable params: </span><span style=\"color: #00af00; text-decoration-color: #00af00\">15,425</span> (60.25 KB)\n",
       "</pre>\n"
      ],
      "text/plain": [
       "\u001b[1m Trainable params: \u001b[0m\u001b[38;5;34m15,425\u001b[0m (60.25 KB)\n"
      ]
     },
     "metadata": {},
     "output_type": "display_data"
    },
    {
     "data": {
      "text/html": [
       "<pre style=\"white-space:pre;overflow-x:auto;line-height:normal;font-family:Menlo,'DejaVu Sans Mono',consolas,'Courier New',monospace\"><span style=\"font-weight: bold\"> Non-trainable params: </span><span style=\"color: #00af00; text-decoration-color: #00af00\">0</span> (0.00 B)\n",
       "</pre>\n"
      ],
      "text/plain": [
       "\u001b[1m Non-trainable params: \u001b[0m\u001b[38;5;34m0\u001b[0m (0.00 B)\n"
      ]
     },
     "metadata": {},
     "output_type": "display_data"
    }
   ],
   "source": [
    "# Sample code for Model Architecture\n",
    "import tensorflow as tf\n",
    "from tensorflow.keras import layers, models\n",
    "\n",
    "def create_model(activation='relu'):\n",
    "    model = models.Sequential()\n",
    "    model.add(layers.InputLayer(input_shape=(X_train.shape[1],)))\n",
    "\n",
    "    # Add hidden layers (adjust number of layers and neurons as needed)\n",
    "    model.add(layers.Dense(64, activation=activation))\n",
    "    model.add(layers.Dense(32, activation=activation))\n",
    "    model.add(layers.Dense(16, activation=activation))\n",
    "\n",
    "    # Output layer (adjust the number of neurons based on the number of classes)\n",
    "    model.add(layers.Dense(1, activation='sigmoid'))  # For binary classification\n",
    "\n",
    "    # Compile the model\n",
    "    model.compile(optimizer='adam', loss='binary_crossentropy', metrics=['accuracy'])\n",
    "    return model\n",
    "\n",
    "# Create the model\n",
    "model = create_model()\n",
    "\n",
    "# Display the model summary\n",
    "model.summary()\n"
   ]
  },
  {
   "cell_type": "code",
   "execution_count": 32,
   "id": "9e031cb7-2d30-4b2b-91e1-e62e93f431be",
   "metadata": {},
   "outputs": [
    {
     "name": "stdout",
     "output_type": "stream",
     "text": [
      "Epoch 1/100\n",
      "\u001b[1m4384/4384\u001b[0m \u001b[32m━━━━━━━━━━━━━━━━━━━━\u001b[0m\u001b[37m\u001b[0m \u001b[1m7s\u001b[0m 1ms/step - accuracy: 0.9899 - loss: 0.0341 - val_accuracy: 1.0000 - val_loss: 1.7326e-07\n",
      "Epoch 2/100\n",
      "\u001b[1m4384/4384\u001b[0m \u001b[32m━━━━━━━━━━━━━━━━━━━━\u001b[0m\u001b[37m\u001b[0m \u001b[1m5s\u001b[0m 1ms/step - accuracy: 1.0000 - loss: 4.5822e-07 - val_accuracy: 1.0000 - val_loss: 9.6136e-09\n",
      "Epoch 3/100\n",
      "\u001b[1m4384/4384\u001b[0m \u001b[32m━━━━━━━━━━━━━━━━━━━━\u001b[0m\u001b[37m\u001b[0m \u001b[1m5s\u001b[0m 1ms/step - accuracy: 1.0000 - loss: 3.2531e-08 - val_accuracy: 1.0000 - val_loss: 1.2917e-09\n",
      "Epoch 4/100\n",
      "\u001b[1m4384/4384\u001b[0m \u001b[32m━━━━━━━━━━━━━━━━━━━━\u001b[0m\u001b[37m\u001b[0m \u001b[1m6s\u001b[0m 1ms/step - accuracy: 1.0000 - loss: 4.7993e-09 - val_accuracy: 1.0000 - val_loss: 4.3837e-10\n",
      "Epoch 5/100\n",
      "\u001b[1m4384/4384\u001b[0m \u001b[32m━━━━━━━━━━━━━━━━━━━━\u001b[0m\u001b[37m\u001b[0m \u001b[1m5s\u001b[0m 1ms/step - accuracy: 1.0000 - loss: 1.4868e-09 - val_accuracy: 1.0000 - val_loss: 2.1852e-10\n",
      "Epoch 6/100\n",
      "\u001b[1m4384/4384\u001b[0m \u001b[32m━━━━━━━━━━━━━━━━━━━━\u001b[0m\u001b[37m\u001b[0m \u001b[1m5s\u001b[0m 1ms/step - accuracy: 1.0000 - loss: 7.0118e-10 - val_accuracy: 1.0000 - val_loss: 1.4178e-10\n",
      "Epoch 7/100\n",
      "\u001b[1m4384/4384\u001b[0m \u001b[32m━━━━━━━━━━━━━━━━━━━━\u001b[0m\u001b[37m\u001b[0m \u001b[1m6s\u001b[0m 1ms/step - accuracy: 1.0000 - loss: 4.5402e-10 - val_accuracy: 1.0000 - val_loss: 1.0199e-10\n",
      "Epoch 8/100\n",
      "\u001b[1m4384/4384\u001b[0m \u001b[32m━━━━━━━━━━━━━━━━━━━━\u001b[0m\u001b[37m\u001b[0m \u001b[1m6s\u001b[0m 1ms/step - accuracy: 1.0000 - loss: 3.3208e-10 - val_accuracy: 1.0000 - val_loss: 8.9820e-11\n",
      "Epoch 9/100\n",
      "\u001b[1m4384/4384\u001b[0m \u001b[32m━━━━━━━━━━━━━━━━━━━━\u001b[0m\u001b[37m\u001b[0m \u001b[1m6s\u001b[0m 1ms/step - accuracy: 1.0000 - loss: 2.9432e-10 - val_accuracy: 1.0000 - val_loss: 8.0306e-11\n",
      "Epoch 10/100\n",
      "\u001b[1m4384/4384\u001b[0m \u001b[32m━━━━━━━━━━━━━━━━━━━━\u001b[0m\u001b[37m\u001b[0m \u001b[1m6s\u001b[0m 1ms/step - accuracy: 1.0000 - loss: 2.6708e-10 - val_accuracy: 1.0000 - val_loss: 7.2393e-11\n",
      "Epoch 11/100\n",
      "\u001b[1m4384/4384\u001b[0m \u001b[32m━━━━━━━━━━━━━━━━━━━━\u001b[0m\u001b[37m\u001b[0m \u001b[1m5s\u001b[0m 1ms/step - accuracy: 1.0000 - loss: 2.4864e-10 - val_accuracy: 1.0000 - val_loss: 6.7735e-11\n",
      "Epoch 12/100\n",
      "\u001b[1m4384/4384\u001b[0m \u001b[32m━━━━━━━━━━━━━━━━━━━━\u001b[0m\u001b[37m\u001b[0m \u001b[1m5s\u001b[0m 1ms/step - accuracy: 1.0000 - loss: 2.2735e-10 - val_accuracy: 1.0000 - val_loss: 6.7107e-11\n",
      "Epoch 13/100\n",
      "\u001b[1m4384/4384\u001b[0m \u001b[32m━━━━━━━━━━━━━━━━━━━━\u001b[0m\u001b[37m\u001b[0m \u001b[1m6s\u001b[0m 1ms/step - accuracy: 1.0000 - loss: 2.0959e-10 - val_accuracy: 1.0000 - val_loss: 6.3306e-11\n",
      "Epoch 14/100\n",
      "\u001b[1m4384/4384\u001b[0m \u001b[32m━━━━━━━━━━━━━━━━━━━━\u001b[0m\u001b[37m\u001b[0m \u001b[1m6s\u001b[0m 1ms/step - accuracy: 1.0000 - loss: 2.1264e-10 - val_accuracy: 1.0000 - val_loss: 6.0032e-11\n",
      "Epoch 15/100\n",
      "\u001b[1m4384/4384\u001b[0m \u001b[32m━━━━━━━━━━━━━━━━━━━━\u001b[0m\u001b[37m\u001b[0m \u001b[1m5s\u001b[0m 1ms/step - accuracy: 1.0000 - loss: 1.9972e-10 - val_accuracy: 1.0000 - val_loss: 6.0497e-11\n",
      "Epoch 16/100\n",
      "\u001b[1m4384/4384\u001b[0m \u001b[32m━━━━━━━━━━━━━━━━━━━━\u001b[0m\u001b[37m\u001b[0m \u001b[1m5s\u001b[0m 1ms/step - accuracy: 1.0000 - loss: 1.9727e-10 - val_accuracy: 1.0000 - val_loss: 5.7702e-11\n",
      "Epoch 17/100\n",
      "\u001b[1m4384/4384\u001b[0m \u001b[32m━━━━━━━━━━━━━━━━━━━━\u001b[0m\u001b[37m\u001b[0m \u001b[1m6s\u001b[0m 1ms/step - accuracy: 1.0000 - loss: 1.8958e-10 - val_accuracy: 1.0000 - val_loss: 5.6763e-11\n",
      "Epoch 18/100\n",
      "\u001b[1m4384/4384\u001b[0m \u001b[32m━━━━━━━━━━━━━━━━━━━━\u001b[0m\u001b[37m\u001b[0m \u001b[1m6s\u001b[0m 1ms/step - accuracy: 1.0000 - loss: 1.8823e-10 - val_accuracy: 1.0000 - val_loss: 5.5139e-11\n",
      "Epoch 19/100\n",
      "\u001b[1m4384/4384\u001b[0m \u001b[32m━━━━━━━━━━━━━━━━━━━━\u001b[0m\u001b[37m\u001b[0m \u001b[1m6s\u001b[0m 1ms/step - accuracy: 1.0000 - loss: 1.8187e-10 - val_accuracy: 1.0000 - val_loss: 5.5251e-11\n",
      "Epoch 20/100\n",
      "\u001b[1m4384/4384\u001b[0m \u001b[32m━━━━━━━━━━━━━━━━━━━━\u001b[0m\u001b[37m\u001b[0m \u001b[1m6s\u001b[0m 1ms/step - accuracy: 1.0000 - loss: 1.7911e-10 - val_accuracy: 1.0000 - val_loss: 5.4864e-11\n",
      "Epoch 21/100\n",
      "\u001b[1m4384/4384\u001b[0m \u001b[32m━━━━━━━━━━━━━━━━━━━━\u001b[0m\u001b[37m\u001b[0m \u001b[1m5s\u001b[0m 1ms/step - accuracy: 1.0000 - loss: 1.7525e-10 - val_accuracy: 1.0000 - val_loss: 5.4276e-11\n",
      "Epoch 22/100\n",
      "\u001b[1m4384/4384\u001b[0m \u001b[32m━━━━━━━━━━━━━━━━━━━━\u001b[0m\u001b[37m\u001b[0m \u001b[1m5s\u001b[0m 1ms/step - accuracy: 1.0000 - loss: 1.7379e-10 - val_accuracy: 1.0000 - val_loss: 5.3525e-11\n",
      "Epoch 23/100\n",
      "\u001b[1m4384/4384\u001b[0m \u001b[32m━━━━━━━━━━━━━━━━━━━━\u001b[0m\u001b[37m\u001b[0m \u001b[1m6s\u001b[0m 1ms/step - accuracy: 1.0000 - loss: 1.7151e-10 - val_accuracy: 1.0000 - val_loss: 5.2588e-11\n",
      "Epoch 24/100\n",
      "\u001b[1m4384/4384\u001b[0m \u001b[32m━━━━━━━━━━━━━━━━━━━━\u001b[0m\u001b[37m\u001b[0m \u001b[1m6s\u001b[0m 1ms/step - accuracy: 1.0000 - loss: 1.6246e-10 - val_accuracy: 1.0000 - val_loss: 5.1608e-11\n",
      "Epoch 25/100\n",
      "\u001b[1m4384/4384\u001b[0m \u001b[32m━━━━━━━━━━━━━━━━━━━━\u001b[0m\u001b[37m\u001b[0m \u001b[1m6s\u001b[0m 1ms/step - accuracy: 1.0000 - loss: 1.6398e-10 - val_accuracy: 1.0000 - val_loss: 5.0379e-11\n",
      "Epoch 26/100\n",
      "\u001b[1m4384/4384\u001b[0m \u001b[32m━━━━━━━━━━━━━━━━━━━━\u001b[0m\u001b[37m\u001b[0m \u001b[1m6s\u001b[0m 1ms/step - accuracy: 1.0000 - loss: 1.5313e-10 - val_accuracy: 1.0000 - val_loss: 4.9319e-11\n",
      "Epoch 27/100\n",
      "\u001b[1m4384/4384\u001b[0m \u001b[32m━━━━━━━━━━━━━━━━━━━━\u001b[0m\u001b[37m\u001b[0m \u001b[1m6s\u001b[0m 1ms/step - accuracy: 1.0000 - loss: 1.5154e-10 - val_accuracy: 1.0000 - val_loss: 5.0171e-11\n",
      "Epoch 28/100\n",
      "\u001b[1m4384/4384\u001b[0m \u001b[32m━━━━━━━━━━━━━━━━━━━━\u001b[0m\u001b[37m\u001b[0m \u001b[1m6s\u001b[0m 1ms/step - accuracy: 1.0000 - loss: 1.5647e-10 - val_accuracy: 1.0000 - val_loss: 4.8683e-11\n",
      "Epoch 29/100\n",
      "\u001b[1m4384/4384\u001b[0m \u001b[32m━━━━━━━━━━━━━━━━━━━━\u001b[0m\u001b[37m\u001b[0m \u001b[1m6s\u001b[0m 1ms/step - accuracy: 1.0000 - loss: 1.5039e-10 - val_accuracy: 1.0000 - val_loss: 4.9272e-11\n",
      "Epoch 30/100\n",
      "\u001b[1m4384/4384\u001b[0m \u001b[32m━━━━━━━━━━━━━━━━━━━━\u001b[0m\u001b[37m\u001b[0m \u001b[1m6s\u001b[0m 1ms/step - accuracy: 1.0000 - loss: 1.5085e-10 - val_accuracy: 1.0000 - val_loss: 4.9744e-11\n",
      "Epoch 31/100\n",
      "\u001b[1m4384/4384\u001b[0m \u001b[32m━━━━━━━━━━━━━━━━━━━━\u001b[0m\u001b[37m\u001b[0m \u001b[1m6s\u001b[0m 1ms/step - accuracy: 1.0000 - loss: 1.5141e-10 - val_accuracy: 1.0000 - val_loss: 4.8008e-11\n",
      "Epoch 32/100\n",
      "\u001b[1m4384/4384\u001b[0m \u001b[32m━━━━━━━━━━━━━━━━━━━━\u001b[0m\u001b[37m\u001b[0m \u001b[1m6s\u001b[0m 1ms/step - accuracy: 1.0000 - loss: 1.4689e-10 - val_accuracy: 1.0000 - val_loss: 4.8335e-11\n",
      "Epoch 33/100\n",
      "\u001b[1m4384/4384\u001b[0m \u001b[32m━━━━━━━━━━━━━━━━━━━━\u001b[0m\u001b[37m\u001b[0m \u001b[1m6s\u001b[0m 1ms/step - accuracy: 1.0000 - loss: 1.4356e-10 - val_accuracy: 1.0000 - val_loss: 4.8633e-11\n",
      "Epoch 34/100\n",
      "\u001b[1m4384/4384\u001b[0m \u001b[32m━━━━━━━━━━━━━━━━━━━━\u001b[0m\u001b[37m\u001b[0m \u001b[1m6s\u001b[0m 1ms/step - accuracy: 1.0000 - loss: 1.4494e-10 - val_accuracy: 1.0000 - val_loss: 4.8776e-11\n",
      "Epoch 35/100\n",
      "\u001b[1m4384/4384\u001b[0m \u001b[32m━━━━━━━━━━━━━━━━━━━━\u001b[0m\u001b[37m\u001b[0m \u001b[1m6s\u001b[0m 1ms/step - accuracy: 1.0000 - loss: 1.4265e-10 - val_accuracy: 1.0000 - val_loss: 4.8861e-11\n",
      "Epoch 36/100\n",
      "\u001b[1m4384/4384\u001b[0m \u001b[32m━━━━━━━━━━━━━━━━━━━━\u001b[0m\u001b[37m\u001b[0m \u001b[1m5s\u001b[0m 1ms/step - accuracy: 1.0000 - loss: 1.4267e-10 - val_accuracy: 1.0000 - val_loss: 4.6785e-11\n",
      "Epoch 37/100\n",
      "\u001b[1m4384/4384\u001b[0m \u001b[32m━━━━━━━━━━━━━━━━━━━━\u001b[0m\u001b[37m\u001b[0m \u001b[1m6s\u001b[0m 1ms/step - accuracy: 1.0000 - loss: 1.3559e-10 - val_accuracy: 1.0000 - val_loss: 4.6867e-11\n",
      "Epoch 38/100\n",
      "\u001b[1m4384/4384\u001b[0m \u001b[32m━━━━━━━━━━━━━━━━━━━━\u001b[0m\u001b[37m\u001b[0m \u001b[1m5s\u001b[0m 1ms/step - accuracy: 1.0000 - loss: 1.3611e-10 - val_accuracy: 1.0000 - val_loss: 4.6856e-11\n",
      "Epoch 39/100\n",
      "\u001b[1m4384/4384\u001b[0m \u001b[32m━━━━━━━━━━━━━━━━━━━━\u001b[0m\u001b[37m\u001b[0m \u001b[1m5s\u001b[0m 1ms/step - accuracy: 1.0000 - loss: 1.3231e-10 - val_accuracy: 1.0000 - val_loss: 4.6861e-11\n",
      "Epoch 40/100\n",
      "\u001b[1m4384/4384\u001b[0m \u001b[32m━━━━━━━━━━━━━━━━━━━━\u001b[0m\u001b[37m\u001b[0m \u001b[1m6s\u001b[0m 1ms/step - accuracy: 1.0000 - loss: 1.3508e-10 - val_accuracy: 1.0000 - val_loss: 4.8150e-11\n",
      "Epoch 41/100\n",
      "\u001b[1m4384/4384\u001b[0m \u001b[32m━━━━━━━━━━━━━━━━━━━━\u001b[0m\u001b[37m\u001b[0m \u001b[1m5s\u001b[0m 1ms/step - accuracy: 1.0000 - loss: 1.3798e-10 - val_accuracy: 1.0000 - val_loss: 4.7946e-11\n"
     ]
    }
   ],
   "source": [
    "from tensorflow.keras.callbacks import EarlyStopping, ModelCheckpoint\n",
    "\n",
    "# Define callbacks\n",
    "early_stopping = EarlyStopping(monitor='val_loss', patience=5, restore_best_weights=True)\n",
    "model_checkpoint = ModelCheckpoint('best_model.keras', monitor='val_loss', save_best_only=True)\n",
    "\n",
    "# Train the model\n",
    "history = model.fit(X_train, y_train, \n",
    "                    validation_split=0.2, \n",
    "                    epochs=100, \n",
    "                    batch_size=32, \n",
    "                    callbacks=[early_stopping, model_checkpoint])\n",
    "\n"
   ]
  },
  {
   "cell_type": "code",
   "execution_count": 33,
   "id": "0485aff3-e022-46cc-830e-148863a40e7f",
   "metadata": {},
   "outputs": [
    {
     "name": "stdout",
     "output_type": "stream",
     "text": [
      "\u001b[1m2573/2573\u001b[0m \u001b[32m━━━━━━━━━━━━━━━━━━━━\u001b[0m\u001b[37m\u001b[0m \u001b[1m2s\u001b[0m 725us/step - accuracy: 1.0000 - loss: 2.6186e-09\n",
      "Test Loss: 0.0000\n",
      "Test Accuracy: 1.0000\n"
     ]
    }
   ],
   "source": [
    "# Evaluate the model on the test data\n",
    "test_loss, test_accuracy = model.evaluate(X_test, y_test)\n",
    "\n",
    "print(f\"Test Loss: {test_loss:.4f}\")\n",
    "print(f\"Test Accuracy: {test_accuracy:.4f}\")\n",
    "\n"
   ]
  },
  {
   "cell_type": "code",
   "execution_count": 34,
   "id": "739e12a2-89a8-40bc-a83f-e51aad955a63",
   "metadata": {},
   "outputs": [
    {
     "name": "stdout",
     "output_type": "stream",
     "text": [
      "\u001b[1m2573/2573\u001b[0m \u001b[32m━━━━━━━━━━━━━━━━━━━━\u001b[0m\u001b[37m\u001b[0m \u001b[1m2s\u001b[0m 661us/step\n"
     ]
    }
   ],
   "source": [
    "# Make predictions\n",
    "y_pred = model.predict(X_test)\n",
    "y_pred_classes = (y_pred > 0.5).astype(int)  # Adjust threshold based on your requirements\n"
   ]
  },
  {
   "cell_type": "code",
   "execution_count": 35,
   "id": "4683dec5-b1dc-4828-a097-370fb2cc18d0",
   "metadata": {},
   "outputs": [
    {
     "name": "stdout",
     "output_type": "stream",
     "text": [
      "              precision    recall  f1-score   support\n",
      "\n",
      "           0       1.00      1.00      1.00     36998\n",
      "           1       1.00      1.00      1.00     45329\n",
      "\n",
      "    accuracy                           1.00     82327\n",
      "   macro avg       1.00      1.00      1.00     82327\n",
      "weighted avg       1.00      1.00      1.00     82327\n",
      "\n",
      "Confusion Matrix:\n",
      "[[36998     0]\n",
      " [    0 45329]]\n"
     ]
    }
   ],
   "source": [
    "from sklearn.metrics import classification_report, confusion_matrix\n",
    "\n",
    "# Print classification report\n",
    "print(classification_report(y_test, y_pred_classes))\n",
    "\n",
    "# Confusion matrix\n",
    "cm = confusion_matrix(y_test, y_pred_classes)\n",
    "print(\"Confusion Matrix:\")\n",
    "print(cm)\n"
   ]
  },
  {
   "cell_type": "code",
   "execution_count": 36,
   "id": "71679421-e242-4247-a56c-8fd6e85d396e",
   "metadata": {},
   "outputs": [],
   "source": [
    "# Save the final model\n",
    "model.save('final_model.keras')\n"
   ]
  },
  {
   "cell_type": "code",
   "execution_count": 38,
   "id": "62781667-3d53-4c59-8b2f-862467e7ebd1",
   "metadata": {},
   "outputs": [
    {
     "name": "stdout",
     "output_type": "stream",
     "text": [
      "Index(['id', 'dur', 'spkts', 'dpkts', 'sbytes', 'dbytes', 'rate', 'sttl',\n",
      "       'dttl', 'sload',\n",
      "       ...\n",
      "       'attack_cat_Analysis', 'attack_cat_Backdoor', 'attack_cat_DoS',\n",
      "       'attack_cat_Exploits', 'attack_cat_Fuzzers', 'attack_cat_Generic',\n",
      "       'attack_cat_Normal', 'attack_cat_Reconnaissance',\n",
      "       'attack_cat_Shellcode', 'attack_cat_Worms'],\n",
      "      dtype='object', length=200)\n",
      "Index(['id', 'dur', 'spkts', 'dpkts', 'sbytes', 'dbytes', 'rate', 'sttl',\n",
      "       'dttl', 'sload',\n",
      "       ...\n",
      "       'attack_cat_Analysis', 'attack_cat_Backdoor', 'attack_cat_DoS',\n",
      "       'attack_cat_Exploits', 'attack_cat_Fuzzers', 'attack_cat_Generic',\n",
      "       'attack_cat_Normal', 'attack_cat_Reconnaissance',\n",
      "       'attack_cat_Shellcode', 'attack_cat_Worms'],\n",
      "      dtype='object', length=200)\n"
     ]
    }
   ],
   "source": [
    "print(train_data.columns)\n",
    "print(test_data.columns)\n",
    "\n"
   ]
  },
  {
   "cell_type": "code",
   "execution_count": 39,
   "id": "2c9da642-70a0-45d8-a293-c0747996c50d",
   "metadata": {},
   "outputs": [
    {
     "name": "stdout",
     "output_type": "stream",
     "text": [
      "Training data shape after dropping unmatched categories: (175325, 200)\n",
      "Test data shape after dropping unmatched categories: (82327, 200)\n"
     ]
    }
   ],
   "source": [
    "# Choose the categorical column you want to analyze\n",
    "category_column = 'attack_cat_DoS'  # Change this to your desired column name\n",
    "\n",
    "# Find unique values in the categorical column for training and test data\n",
    "train_categorical_values = set(train_data[category_column].unique())\n",
    "test_categorical_values = set(test_data[category_column].unique())\n",
    "\n",
    "# Find values unique to training and test data\n",
    "train_only = train_categorical_values - test_categorical_values\n",
    "test_only = test_categorical_values - train_categorical_values\n",
    "\n",
    "# Drop rows with those unique values from training and test data\n",
    "train_data = train_data[~train_data[category_column].isin(train_only)]\n",
    "test_data = test_data[~test_data[category_column].isin(test_only)]\n",
    "\n",
    "# Optional: Check the resulting datasets\n",
    "print(f\"Training data shape after dropping unmatched categories: {train_data.shape}\")\n",
    "print(f\"Test data shape after dropping unmatched categories: {test_data.shape}\")\n"
   ]
  },
  {
   "cell_type": "code",
   "execution_count": 40,
   "id": "c93ef805-692a-41a0-bbe5-11abf7c43816",
   "metadata": {},
   "outputs": [
    {
     "name": "stdout",
     "output_type": "stream",
     "text": [
      "Training data shape after dropping missing values: (175325, 200)\n",
      "Test data shape after dropping missing values: (82327, 200)\n"
     ]
    }
   ],
   "source": [
    "# Drop rows with missing values in both training and test datasets\n",
    "train_data = train_data.dropna()\n",
    "test_data = test_data.dropna()\n",
    "\n",
    "# Check the shapes of the datasets after dropping missing values\n",
    "print(f\"Training data shape after dropping missing values: {train_data.shape}\")\n",
    "print(f\"Test data shape after dropping missing values: {test_data.shape}\")\n"
   ]
  },
  {
   "cell_type": "code",
   "execution_count": 41,
   "id": "5418d5e6-0f72-4a0d-94be-451afcf38960",
   "metadata": {},
   "outputs": [
    {
     "name": "stdout",
     "output_type": "stream",
     "text": [
      "Training data shape after encoding: (175325, 210)\n",
      "Test data shape after encoding: (82327, 210)\n"
     ]
    }
   ],
   "source": [
    "# List of categorical columns to encode \n",
    "categorical_columns = [col for col in train_data.columns if 'attack_cat_' in col]\n",
    "\n",
    "# One-hot encode categorical features for both datasets\n",
    "train_data_encoded = pd.get_dummies(train_data, columns=categorical_columns)\n",
    "test_data_encoded = pd.get_dummies(test_data, columns=categorical_columns)\n",
    "\n",
    "# Ensure both datasets have the same columns after encoding\n",
    "train_data_encoded, test_data_encoded = train_data_encoded.align(test_data_encoded, join='outer', axis=1, fill_value=0)\n",
    "\n",
    "# Check the shapes of the encoded datasets\n",
    "print(f\"Training data shape after encoding: {train_data_encoded.shape}\")\n",
    "print(f\"Test data shape after encoding: {test_data_encoded.shape}\")\n"
   ]
  },
  {
   "cell_type": "code",
   "execution_count": 42,
   "id": "caf5cc9c-7a54-46c7-b70a-9880eeb1671a",
   "metadata": {},
   "outputs": [
    {
     "name": "stdout",
     "output_type": "stream",
     "text": [
      "Training data shape after encoding:  (175325, 200)\n",
      "Test data shape after encoding:  (82327, 200)\n"
     ]
    }
   ],
   "source": [
    "# Identify categorical columns\n",
    "categorical_cols = train_data.select_dtypes(include=['object']).columns\n",
    "\n",
    "# Encode categorical features for both training and test datasets\n",
    "train_data_encoded = pd.get_dummies(train_data, columns=categorical_cols, drop_first=True)\n",
    "test_data_encoded = pd.get_dummies(test_data, columns=categorical_cols, drop_first=True)\n",
    "\n",
    "# Ensure the columns match in both datasets\n",
    "train_data_encoded, test_data_encoded = train_data_encoded.align(test_data_encoded, join='outer', axis=1, fill_value=0)\n",
    "\n",
    "# Display the shapes of the new datasets\n",
    "print(\"Training data shape after encoding: \", train_data_encoded.shape)\n",
    "print(\"Test data shape after encoding: \", test_data_encoded.shape)\n"
   ]
  },
  {
   "cell_type": "code",
   "execution_count": 43,
   "id": "d10424fb-9c60-423c-993d-810b29307b51",
   "metadata": {},
   "outputs": [
    {
     "name": "stdout",
     "output_type": "stream",
     "text": [
      "         id       dur     spkts     dpkts    sbytes    dbytes      rate  \\\n",
      "0 -1.732236 -0.191040 -0.104463 -0.135778 -0.049136 -0.102730 -0.576362   \n",
      "1 -1.732216 -0.109499 -0.046024  0.172576 -0.046412  0.188526 -0.576335   \n",
      "2 -1.732196  0.040678 -0.089853 -0.026948 -0.048529 -0.012142 -0.576724   \n",
      "3 -1.732177  0.049707 -0.060633 -0.063225 -0.047019 -0.098568 -0.576727   \n",
      "4 -1.732157 -0.140430 -0.075243 -0.117640 -0.047556 -0.102062 -0.576608   \n",
      "\n",
      "       sttl      dttl     sload  ...  attack_cat_Analysis  \\\n",
      "0  0.703781  1.578000 -0.389871  ...                False   \n",
      "1 -1.141967  1.559902 -0.389902  ...                False   \n",
      "2 -1.141967  1.559902 -0.389938  ...                False   \n",
      "3 -1.141967  1.559902 -0.389932  ...                False   \n",
      "4  0.723210  1.559902 -0.389901  ...                False   \n",
      "\n",
      "   attack_cat_Backdoor  attack_cat_DoS  attack_cat_Exploits  \\\n",
      "0                False           False                False   \n",
      "1                False           False                False   \n",
      "2                False           False                False   \n",
      "3                False           False                False   \n",
      "4                False           False                False   \n",
      "\n",
      "   attack_cat_Fuzzers  attack_cat_Generic  attack_cat_Normal  \\\n",
      "0               False               False               True   \n",
      "1               False               False               True   \n",
      "2               False               False               True   \n",
      "3               False               False               True   \n",
      "4               False               False               True   \n",
      "\n",
      "   attack_cat_Reconnaissance  attack_cat_Shellcode  attack_cat_Worms  \n",
      "0                      False                 False             False  \n",
      "1                      False                 False             False  \n",
      "2                      False                 False             False  \n",
      "3                      False                 False             False  \n",
      "4                      False                 False             False  \n",
      "\n",
      "[5 rows x 200 columns]\n"
     ]
    }
   ],
   "source": [
    "from sklearn.preprocessing import StandardScaler\n",
    "\n",
    "# Separate the numeric columns\n",
    "numeric_cols = train_data_encoded.select_dtypes(include=['int64', 'float64']).columns\n",
    "\n",
    "# Initialize the scaler\n",
    "scaler = StandardScaler()\n",
    "\n",
    "# Fit the scaler on the training data and transform both datasets\n",
    "train_data_encoded[numeric_cols] = scaler.fit_transform(train_data_encoded[numeric_cols])\n",
    "test_data_encoded[numeric_cols] = scaler.transform(test_data_encoded[numeric_cols])\n",
    "\n",
    "# Display the first few rows of the encoded and normalized training data\n",
    "print(train_data_encoded.head())\n"
   ]
  },
  {
   "cell_type": "code",
   "execution_count": 44,
   "id": "c4ea48b1-579f-4b4f-bd48-328849bc784d",
   "metadata": {},
   "outputs": [
    {
     "name": "stdout",
     "output_type": "stream",
     "text": [
      "Training data shape after dropping missing values:  (175325, 200)\n",
      "Test data shape after dropping missing values:  (82327, 200)\n"
     ]
    }
   ],
   "source": [
    "# Drop any rows with missing values in the encoded training and test datasets\n",
    "train_data_cleaned = train_data_encoded.dropna()\n",
    "test_data_cleaned = test_data_encoded.dropna()\n",
    "\n",
    "# Display the shapes after dropping missing values\n",
    "print(\"Training data shape after dropping missing values: \", train_data_cleaned.shape)\n",
    "print(\"Test data shape after dropping missing values: \", test_data_cleaned.shape)\n"
   ]
  },
  {
   "cell_type": "code",
   "execution_count": 46,
   "id": "5e4cf052-3f1b-4517-a7e4-3b7c7c6b04ec",
   "metadata": {},
   "outputs": [
    {
     "name": "stdout",
     "output_type": "stream",
     "text": [
      "Training data columns: ['id', 'dur', 'spkts', 'dpkts', 'sbytes', 'dbytes', 'rate', 'sttl', 'dttl', 'sload', 'dload', 'sloss', 'dloss', 'sinpkt', 'dinpkt', 'sjit', 'djit', 'swin', 'stcpb', 'dtcpb', 'dwin', 'tcprtt', 'synack', 'ackdat', 'smean', 'dmean', 'trans_depth', 'response_body_len', 'ct_srv_src', 'ct_state_ttl', 'ct_dst_ltm', 'ct_src_dport_ltm', 'ct_dst_sport_ltm', 'ct_dst_src_ltm', 'is_ftp_login', 'ct_ftp_cmd', 'ct_flw_http_mthd', 'ct_src_ltm', 'ct_srv_dst', 'is_sm_ips_ports', 'label', 'proto_3pc', 'proto_a/n', 'proto_aes-sp3-d', 'proto_any', 'proto_argus', 'proto_aris', 'proto_arp', 'proto_ax.25', 'proto_bbn-rcc', 'proto_bna', 'proto_br-sat-mon', 'proto_cbt', 'proto_cftp', 'proto_chaos', 'proto_compaq-peer', 'proto_cphb', 'proto_cpnx', 'proto_crtp', 'proto_crudp', 'proto_dcn', 'proto_ddp', 'proto_ddx', 'proto_dgp', 'proto_egp', 'proto_eigrp', 'proto_emcon', 'proto_encap', 'proto_etherip', 'proto_fc', 'proto_fire', 'proto_ggp', 'proto_gmtp', 'proto_gre', 'proto_hmp', 'proto_i-nlsp', 'proto_iatp', 'proto_ib', 'proto_idpr', 'proto_idpr-cmtp', 'proto_idrp', 'proto_ifmp', 'proto_igmp', 'proto_igp', 'proto_il', 'proto_ip', 'proto_ipcomp', 'proto_ipcv', 'proto_ipip', 'proto_iplt', 'proto_ipnip', 'proto_ippc', 'proto_ipv6', 'proto_ipv6-frag', 'proto_ipv6-no', 'proto_ipv6-opts', 'proto_ipv6-route', 'proto_ipx-n-ip', 'proto_irtp', 'proto_isis', 'proto_iso-ip', 'proto_iso-tp4', 'proto_kryptolan', 'proto_l2tp', 'proto_larp', 'proto_leaf-1', 'proto_leaf-2', 'proto_merit-inp', 'proto_mfe-nsp', 'proto_mhrp', 'proto_micp', 'proto_mobile', 'proto_mtp', 'proto_mux', 'proto_narp', 'proto_netblt', 'proto_nsfnet-igp', 'proto_nvp', 'proto_ospf', 'proto_pgm', 'proto_pim', 'proto_pipe', 'proto_pnni', 'proto_pri-enc', 'proto_prm', 'proto_ptp', 'proto_pup', 'proto_pvp', 'proto_qnx', 'proto_rdp', 'proto_rsvp', 'proto_rvd', 'proto_sat-expak', 'proto_sat-mon', 'proto_sccopmce', 'proto_scps', 'proto_sctp', 'proto_sdrp', 'proto_secure-vmtp', 'proto_sep', 'proto_skip', 'proto_sm', 'proto_smp', 'proto_snp', 'proto_sprite-rpc', 'proto_sps', 'proto_srp', 'proto_st2', 'proto_stp', 'proto_sun-nd', 'proto_swipe', 'proto_tcf', 'proto_tcp', 'proto_tlsp', 'proto_tp++', 'proto_trunk-1', 'proto_trunk-2', 'proto_ttp', 'proto_udp', 'proto_unas', 'proto_uti', 'proto_vines', 'proto_visa', 'proto_vmtp', 'proto_vrrp', 'proto_wb-expak', 'proto_wb-mon', 'proto_wsn', 'proto_xnet', 'proto_xns-idp', 'proto_xtp', 'proto_zero', 'service_-', 'service_dhcp', 'service_dns', 'service_ftp', 'service_ftp-data', 'service_http', 'service_irc', 'service_pop3', 'service_radius', 'service_smtp', 'service_snmp', 'service_ssh', 'service_ssl', 'state_CON', 'state_FIN', 'state_INT', 'state_REQ', 'state_RST', 'attack_cat_Analysis', 'attack_cat_Backdoor', 'attack_cat_DoS', 'attack_cat_Exploits', 'attack_cat_Fuzzers', 'attack_cat_Generic', 'attack_cat_Normal', 'attack_cat_Reconnaissance', 'attack_cat_Shellcode', 'attack_cat_Worms']\n",
      "Test data columns: ['id', 'dur', 'spkts', 'dpkts', 'sbytes', 'dbytes', 'rate', 'sttl', 'dttl', 'sload', 'dload', 'sloss', 'dloss', 'sinpkt', 'dinpkt', 'sjit', 'djit', 'swin', 'stcpb', 'dtcpb', 'dwin', 'tcprtt', 'synack', 'ackdat', 'smean', 'dmean', 'trans_depth', 'response_body_len', 'ct_srv_src', 'ct_state_ttl', 'ct_dst_ltm', 'ct_src_dport_ltm', 'ct_dst_sport_ltm', 'ct_dst_src_ltm', 'is_ftp_login', 'ct_ftp_cmd', 'ct_flw_http_mthd', 'ct_src_ltm', 'ct_srv_dst', 'is_sm_ips_ports', 'label', 'proto_3pc', 'proto_a/n', 'proto_aes-sp3-d', 'proto_any', 'proto_argus', 'proto_aris', 'proto_arp', 'proto_ax.25', 'proto_bbn-rcc', 'proto_bna', 'proto_br-sat-mon', 'proto_cbt', 'proto_cftp', 'proto_chaos', 'proto_compaq-peer', 'proto_cphb', 'proto_cpnx', 'proto_crtp', 'proto_crudp', 'proto_dcn', 'proto_ddp', 'proto_ddx', 'proto_dgp', 'proto_egp', 'proto_eigrp', 'proto_emcon', 'proto_encap', 'proto_etherip', 'proto_fc', 'proto_fire', 'proto_ggp', 'proto_gmtp', 'proto_gre', 'proto_hmp', 'proto_i-nlsp', 'proto_iatp', 'proto_ib', 'proto_idpr', 'proto_idpr-cmtp', 'proto_idrp', 'proto_ifmp', 'proto_igmp', 'proto_igp', 'proto_il', 'proto_ip', 'proto_ipcomp', 'proto_ipcv', 'proto_ipip', 'proto_iplt', 'proto_ipnip', 'proto_ippc', 'proto_ipv6', 'proto_ipv6-frag', 'proto_ipv6-no', 'proto_ipv6-opts', 'proto_ipv6-route', 'proto_ipx-n-ip', 'proto_irtp', 'proto_isis', 'proto_iso-ip', 'proto_iso-tp4', 'proto_kryptolan', 'proto_l2tp', 'proto_larp', 'proto_leaf-1', 'proto_leaf-2', 'proto_merit-inp', 'proto_mfe-nsp', 'proto_mhrp', 'proto_micp', 'proto_mobile', 'proto_mtp', 'proto_mux', 'proto_narp', 'proto_netblt', 'proto_nsfnet-igp', 'proto_nvp', 'proto_ospf', 'proto_pgm', 'proto_pim', 'proto_pipe', 'proto_pnni', 'proto_pri-enc', 'proto_prm', 'proto_ptp', 'proto_pup', 'proto_pvp', 'proto_qnx', 'proto_rdp', 'proto_rsvp', 'proto_rvd', 'proto_sat-expak', 'proto_sat-mon', 'proto_sccopmce', 'proto_scps', 'proto_sctp', 'proto_sdrp', 'proto_secure-vmtp', 'proto_sep', 'proto_skip', 'proto_sm', 'proto_smp', 'proto_snp', 'proto_sprite-rpc', 'proto_sps', 'proto_srp', 'proto_st2', 'proto_stp', 'proto_sun-nd', 'proto_swipe', 'proto_tcf', 'proto_tcp', 'proto_tlsp', 'proto_tp++', 'proto_trunk-1', 'proto_trunk-2', 'proto_ttp', 'proto_udp', 'proto_unas', 'proto_uti', 'proto_vines', 'proto_visa', 'proto_vmtp', 'proto_vrrp', 'proto_wb-expak', 'proto_wb-mon', 'proto_wsn', 'proto_xnet', 'proto_xns-idp', 'proto_xtp', 'proto_zero', 'service_-', 'service_dhcp', 'service_dns', 'service_ftp', 'service_ftp-data', 'service_http', 'service_irc', 'service_pop3', 'service_radius', 'service_smtp', 'service_snmp', 'service_ssh', 'service_ssl', 'state_CON', 'state_FIN', 'state_INT', 'state_REQ', 'state_RST', 'attack_cat_Analysis', 'attack_cat_Backdoor', 'attack_cat_DoS', 'attack_cat_Exploits', 'attack_cat_Fuzzers', 'attack_cat_Generic', 'attack_cat_Normal', 'attack_cat_Reconnaissance', 'attack_cat_Shellcode', 'attack_cat_Worms']\n"
     ]
    }
   ],
   "source": [
    "# Check the column names in the cleaned training and test datasets\n",
    "print(\"Training data columns:\", train_data_cleaned.columns.tolist())\n",
    "print(\"Test data columns:\", test_data_cleaned.columns.tolist())\n",
    "\n"
   ]
  },
  {
   "cell_type": "code",
   "execution_count": 47,
   "id": "d5cde8de-557f-4047-afa1-c40d31aead96",
   "metadata": {},
   "outputs": [
    {
     "name": "stdout",
     "output_type": "stream",
     "text": [
      "Training data columns: ['id', 'dur', 'spkts', 'dpkts', 'sbytes', 'dbytes', 'rate', 'sttl', 'dttl', 'sload', 'dload', 'sloss', 'dloss', 'sinpkt', 'dinpkt', 'sjit', 'djit', 'swin', 'stcpb', 'dtcpb', 'dwin', 'tcprtt', 'synack', 'ackdat', 'smean', 'dmean', 'trans_depth', 'response_body_len', 'ct_srv_src', 'ct_state_ttl', 'ct_dst_ltm', 'ct_src_dport_ltm', 'ct_dst_sport_ltm', 'ct_dst_src_ltm', 'is_ftp_login', 'ct_ftp_cmd', 'ct_flw_http_mthd', 'ct_src_ltm', 'ct_srv_dst', 'is_sm_ips_ports', 'label', 'proto_3pc', 'proto_a/n', 'proto_aes-sp3-d', 'proto_any', 'proto_argus', 'proto_aris', 'proto_arp', 'proto_ax.25', 'proto_bbn-rcc', 'proto_bna', 'proto_br-sat-mon', 'proto_cbt', 'proto_cftp', 'proto_chaos', 'proto_compaq-peer', 'proto_cphb', 'proto_cpnx', 'proto_crtp', 'proto_crudp', 'proto_dcn', 'proto_ddp', 'proto_ddx', 'proto_dgp', 'proto_egp', 'proto_eigrp', 'proto_emcon', 'proto_encap', 'proto_etherip', 'proto_fc', 'proto_fire', 'proto_ggp', 'proto_gmtp', 'proto_gre', 'proto_hmp', 'proto_i-nlsp', 'proto_iatp', 'proto_ib', 'proto_idpr', 'proto_idpr-cmtp', 'proto_idrp', 'proto_ifmp', 'proto_igmp', 'proto_igp', 'proto_il', 'proto_ip', 'proto_ipcomp', 'proto_ipcv', 'proto_ipip', 'proto_iplt', 'proto_ipnip', 'proto_ippc', 'proto_ipv6', 'proto_ipv6-frag', 'proto_ipv6-no', 'proto_ipv6-opts', 'proto_ipv6-route', 'proto_ipx-n-ip', 'proto_irtp', 'proto_isis', 'proto_iso-ip', 'proto_iso-tp4', 'proto_kryptolan', 'proto_l2tp', 'proto_larp', 'proto_leaf-1', 'proto_leaf-2', 'proto_merit-inp', 'proto_mfe-nsp', 'proto_mhrp', 'proto_micp', 'proto_mobile', 'proto_mtp', 'proto_mux', 'proto_narp', 'proto_netblt', 'proto_nsfnet-igp', 'proto_nvp', 'proto_ospf', 'proto_pgm', 'proto_pim', 'proto_pipe', 'proto_pnni', 'proto_pri-enc', 'proto_prm', 'proto_ptp', 'proto_pup', 'proto_pvp', 'proto_qnx', 'proto_rdp', 'proto_rsvp', 'proto_rvd', 'proto_sat-expak', 'proto_sat-mon', 'proto_sccopmce', 'proto_scps', 'proto_sctp', 'proto_sdrp', 'proto_secure-vmtp', 'proto_sep', 'proto_skip', 'proto_sm', 'proto_smp', 'proto_snp', 'proto_sprite-rpc', 'proto_sps', 'proto_srp', 'proto_st2', 'proto_stp', 'proto_sun-nd', 'proto_swipe', 'proto_tcf', 'proto_tcp', 'proto_tlsp', 'proto_tp++', 'proto_trunk-1', 'proto_trunk-2', 'proto_ttp', 'proto_udp', 'proto_unas', 'proto_uti', 'proto_vines', 'proto_visa', 'proto_vmtp', 'proto_vrrp', 'proto_wb-expak', 'proto_wb-mon', 'proto_wsn', 'proto_xnet', 'proto_xns-idp', 'proto_xtp', 'proto_zero', 'service_-', 'service_dhcp', 'service_dns', 'service_ftp', 'service_ftp-data', 'service_http', 'service_irc', 'service_pop3', 'service_radius', 'service_smtp', 'service_snmp', 'service_ssh', 'service_ssl', 'state_CON', 'state_FIN', 'state_INT', 'state_REQ', 'state_RST', 'attack_cat_Analysis', 'attack_cat_Backdoor', 'attack_cat_DoS', 'attack_cat_Exploits', 'attack_cat_Fuzzers', 'attack_cat_Generic', 'attack_cat_Normal', 'attack_cat_Reconnaissance', 'attack_cat_Shellcode', 'attack_cat_Worms']\n",
      "Test data columns: ['id', 'dur', 'spkts', 'dpkts', 'sbytes', 'dbytes', 'rate', 'sttl', 'dttl', 'sload', 'dload', 'sloss', 'dloss', 'sinpkt', 'dinpkt', 'sjit', 'djit', 'swin', 'stcpb', 'dtcpb', 'dwin', 'tcprtt', 'synack', 'ackdat', 'smean', 'dmean', 'trans_depth', 'response_body_len', 'ct_srv_src', 'ct_state_ttl', 'ct_dst_ltm', 'ct_src_dport_ltm', 'ct_dst_sport_ltm', 'ct_dst_src_ltm', 'is_ftp_login', 'ct_ftp_cmd', 'ct_flw_http_mthd', 'ct_src_ltm', 'ct_srv_dst', 'is_sm_ips_ports', 'label', 'proto_3pc', 'proto_a/n', 'proto_aes-sp3-d', 'proto_any', 'proto_argus', 'proto_aris', 'proto_arp', 'proto_ax.25', 'proto_bbn-rcc', 'proto_bna', 'proto_br-sat-mon', 'proto_cbt', 'proto_cftp', 'proto_chaos', 'proto_compaq-peer', 'proto_cphb', 'proto_cpnx', 'proto_crtp', 'proto_crudp', 'proto_dcn', 'proto_ddp', 'proto_ddx', 'proto_dgp', 'proto_egp', 'proto_eigrp', 'proto_emcon', 'proto_encap', 'proto_etherip', 'proto_fc', 'proto_fire', 'proto_ggp', 'proto_gmtp', 'proto_gre', 'proto_hmp', 'proto_i-nlsp', 'proto_iatp', 'proto_ib', 'proto_idpr', 'proto_idpr-cmtp', 'proto_idrp', 'proto_ifmp', 'proto_igmp', 'proto_igp', 'proto_il', 'proto_ip', 'proto_ipcomp', 'proto_ipcv', 'proto_ipip', 'proto_iplt', 'proto_ipnip', 'proto_ippc', 'proto_ipv6', 'proto_ipv6-frag', 'proto_ipv6-no', 'proto_ipv6-opts', 'proto_ipv6-route', 'proto_ipx-n-ip', 'proto_irtp', 'proto_isis', 'proto_iso-ip', 'proto_iso-tp4', 'proto_kryptolan', 'proto_l2tp', 'proto_larp', 'proto_leaf-1', 'proto_leaf-2', 'proto_merit-inp', 'proto_mfe-nsp', 'proto_mhrp', 'proto_micp', 'proto_mobile', 'proto_mtp', 'proto_mux', 'proto_narp', 'proto_netblt', 'proto_nsfnet-igp', 'proto_nvp', 'proto_ospf', 'proto_pgm', 'proto_pim', 'proto_pipe', 'proto_pnni', 'proto_pri-enc', 'proto_prm', 'proto_ptp', 'proto_pup', 'proto_pvp', 'proto_qnx', 'proto_rdp', 'proto_rsvp', 'proto_rvd', 'proto_sat-expak', 'proto_sat-mon', 'proto_sccopmce', 'proto_scps', 'proto_sctp', 'proto_sdrp', 'proto_secure-vmtp', 'proto_sep', 'proto_skip', 'proto_sm', 'proto_smp', 'proto_snp', 'proto_sprite-rpc', 'proto_sps', 'proto_srp', 'proto_st2', 'proto_stp', 'proto_sun-nd', 'proto_swipe', 'proto_tcf', 'proto_tcp', 'proto_tlsp', 'proto_tp++', 'proto_trunk-1', 'proto_trunk-2', 'proto_ttp', 'proto_udp', 'proto_unas', 'proto_uti', 'proto_vines', 'proto_visa', 'proto_vmtp', 'proto_vrrp', 'proto_wb-expak', 'proto_wb-mon', 'proto_wsn', 'proto_xnet', 'proto_xns-idp', 'proto_xtp', 'proto_zero', 'service_-', 'service_dhcp', 'service_dns', 'service_ftp', 'service_ftp-data', 'service_http', 'service_irc', 'service_pop3', 'service_radius', 'service_smtp', 'service_snmp', 'service_ssh', 'service_ssl', 'state_CON', 'state_FIN', 'state_INT', 'state_REQ', 'state_RST', 'attack_cat_Analysis', 'attack_cat_Backdoor', 'attack_cat_DoS', 'attack_cat_Exploits', 'attack_cat_Fuzzers', 'attack_cat_Generic', 'attack_cat_Normal', 'attack_cat_Reconnaissance', 'attack_cat_Shellcode', 'attack_cat_Worms']\n",
      "X_train shape: (175325, 199)\n",
      "y_train shape: (175325,)\n",
      "X_test shape: (82327, 199)\n",
      "y_test shape: (82327,)\n"
     ]
    }
   ],
   "source": [
    "# Print the training and test data columns\n",
    "print(\"Training data columns:\", train_data_cleaned.columns.tolist())\n",
    "print(\"Test data columns:\", test_data_cleaned.columns.tolist())\n",
    "\n",
    "# Set the correct label column name\n",
    "label_column_name = 'label'  # Use 'label' based on your column names\n",
    "\n",
    "# Separate features and labels\n",
    "X_train = train_data_cleaned.drop(columns=[label_column_name])\n",
    "y_train = train_data_cleaned[label_column_name]\n",
    "X_test = test_data_cleaned.drop(columns=[label_column_name])\n",
    "y_test = test_data_cleaned[label_column_name]\n",
    "\n",
    "# Display the shapes of the features and labels\n",
    "print(\"X_train shape:\", X_train.shape)\n",
    "print(\"y_train shape:\", y_train.shape)\n",
    "print(\"X_test shape:\", X_test.shape)\n",
    "print(\"y_test shape:\", y_test.shape)\n"
   ]
  },
  {
   "cell_type": "code",
   "execution_count": 48,
   "id": "1af56360-777d-4e54-9ec5-d82d313dae80",
   "metadata": {},
   "outputs": [],
   "source": [
    "#Import Required Libraries\n",
    "from sklearn.metrics import confusion_matrix, classification_report, roc_curve, auc\n",
    "import matplotlib.pyplot as plt\n"
   ]
  },
  {
   "cell_type": "code",
   "execution_count": 49,
   "id": "9ecd6911-6b21-4994-b4d2-2ed2ea7de65d",
   "metadata": {},
   "outputs": [
    {
     "name": "stdout",
     "output_type": "stream",
     "text": [
      "\u001b[1m2573/2573\u001b[0m \u001b[32m━━━━━━━━━━━━━━━━━━━━\u001b[0m\u001b[37m\u001b[0m \u001b[1m2s\u001b[0m 660us/step\n"
     ]
    }
   ],
   "source": [
    "# Make predictions on the test set\n",
    "y_pred = model.predict(X_test)\n",
    "# Convert probabilities to binary predictions if your model outputs probabilities\n",
    "y_pred_classes = (y_pred > 0.5).astype(int)  # Use the appropriate threshold\n"
   ]
  },
  {
   "cell_type": "code",
   "execution_count": 51,
   "id": "bd8c87fa-3de4-4788-a2e3-422b08ed91ef",
   "metadata": {},
   "outputs": [
    {
     "name": "stdout",
     "output_type": "stream",
     "text": [
      "Shape of y_test: (82327,)\n",
      "Shape of y_pred_classes: (82327, 1)\n"
     ]
    }
   ],
   "source": [
    "# Check the Shape of Your Data\n",
    "print(\"Shape of y_test:\", y_test.shape)\n",
    "print(\"Shape of y_pred_classes:\", y_pred_classes.shape)\n",
    "\n"
   ]
  },
  {
   "cell_type": "code",
   "execution_count": 52,
   "id": "86093f55-bf9e-4c59-9c88-fbe5e99ab959",
   "metadata": {},
   "outputs": [
    {
     "name": "stdout",
     "output_type": "stream",
     "text": [
      "Unique values in y_test: [-1.46003368  0.68491571]\n",
      "Unique values in y_pred_classes: [0 1]\n"
     ]
    }
   ],
   "source": [
    "#Inspect the Values\n",
    "print(\"Unique values in y_test:\", np.unique(y_test))\n",
    "print(\"Unique values in y_pred_classes:\", np.unique(y_pred_classes))\n"
   ]
  },
  {
   "cell_type": "code",
   "execution_count": 53,
   "id": "67288b18-006e-4c2c-9838-5264e38e7546",
   "metadata": {},
   "outputs": [],
   "source": [
    "# Ensure Binary Predictions\n",
    "# Make sure this step is correctly implemented\n",
    "y_pred_classes = (y_pred > 0.5).astype(int)\n"
   ]
  },
  {
   "cell_type": "code",
   "execution_count": 55,
   "id": "5213bba7-60c2-4b69-b893-cfecd904068d",
   "metadata": {},
   "outputs": [],
   "source": [
    "\n",
    "# If you haven't done this, convert predictions to binary class labels\n",
    "threshold = 0.5\n",
    "y_pred_classes = (y_pred > threshold).astype(int)\n",
    "\n"
   ]
  },
  {
   "cell_type": "code",
   "execution_count": 57,
   "id": "903ccdbc-9ac8-431c-9dc0-a27a729b8655",
   "metadata": {},
   "outputs": [
    {
     "name": "stdout",
     "output_type": "stream",
     "text": [
      "Predicted Classes: [[0]\n",
      " [0]\n",
      " [0]\n",
      " ...\n",
      " [0]\n",
      " [0]\n",
      " [0]]\n",
      "True Classes: 0       -1.460034\n",
      "1       -1.460034\n",
      "2       -1.460034\n",
      "3       -1.460034\n",
      "4       -1.460034\n",
      "           ...   \n",
      "82327   -1.460034\n",
      "82328   -1.460034\n",
      "82329   -1.460034\n",
      "82330   -1.460034\n",
      "82331   -1.460034\n",
      "Name: label, Length: 82327, dtype: float64\n"
     ]
    }
   ],
   "source": [
    "print(\"Predicted Classes:\", y_pred_classes)\n",
    "print(\"True Classes:\", y_test)\n"
   ]
  },
  {
   "cell_type": "code",
   "execution_count": 58,
   "id": "21fe4b6f-6444-4223-a0d9-371d231b09e3",
   "metadata": {},
   "outputs": [
    {
     "name": "stdout",
     "output_type": "stream",
     "text": [
      "Unique values in y_test: [-1.46003368  0.68491571]\n"
     ]
    }
   ],
   "source": [
    "# Check the unique values in y_test\n",
    "print(\"Unique values in y_test:\", y_test.unique())\n"
   ]
  },
  {
   "cell_type": "code",
   "execution_count": 62,
   "id": "abc5c122-418c-4321-8f94-f5300b5b9662",
   "metadata": {},
   "outputs": [
    {
     "name": "stdout",
     "output_type": "stream",
     "text": [
      "Mapped values in y_test_binary: [0 1]\n"
     ]
    }
   ],
   "source": [
    "# Apply tolerance-based mapping\n",
    "y_test_binary = y_test.apply(lambda x: 0 if abs(x - (-1.46003368)) < 1e-5 else 1 if abs(x - 0.68491571) < 1e-5 else None)\n",
    "\n",
    "# Check the mapped values\n",
    "print(\"Mapped values in y_test_binary:\", y_test_binary.unique())\n",
    "\n"
   ]
  },
  {
   "cell_type": "code",
   "execution_count": 63,
   "id": "ac59b067-323d-4080-8fac-6f3ea4cda0d1",
   "metadata": {},
   "outputs": [
    {
     "name": "stdout",
     "output_type": "stream",
     "text": [
      "Confusion Matrix:\n",
      " [[30477  6521]\n",
      " [  927 44402]]\n"
     ]
    }
   ],
   "source": [
    "from sklearn.metrics import confusion_matrix\n",
    "\n",
    "# Generate the confusion matrix\n",
    "cm = confusion_matrix(y_test_binary, y_pred_classes)\n",
    "\n",
    "# Print the confusion matrix\n",
    "print(\"Confusion Matrix:\\n\", cm)\n"
   ]
  },
  {
   "cell_type": "code",
   "execution_count": 64,
   "id": "254e5afb-af1b-46ed-9840-9fa8fa63ebe9",
   "metadata": {},
   "outputs": [
    {
     "name": "stdout",
     "output_type": "stream",
     "text": [
      "Precision: 0.871943915323135\n",
      "Recall: 0.9795495157625361\n",
      "F1-Score: 0.9226197897186552\n"
     ]
    }
   ],
   "source": [
    "from sklearn.metrics import precision_score, recall_score, f1_score\n",
    "\n",
    "# Calculate precision, recall, and F1-score\n",
    "precision = precision_score(y_test_binary, y_pred_classes)\n",
    "recall = recall_score(y_test_binary, y_pred_classes)\n",
    "f1 = f1_score(y_test_binary, y_pred_classes)\n",
    "\n",
    "# Print the results\n",
    "print(f\"Precision: {precision}\")\n",
    "print(f\"Recall: {recall}\")\n",
    "print(f\"F1-Score: {f1}\")\n"
   ]
  },
  {
   "cell_type": "code",
   "execution_count": 65,
   "id": "55fdd3f7-d905-4c9d-bf03-d7fd61b9bed9",
   "metadata": {},
   "outputs": [
    {
     "data": {
      "image/png": "[encoded data removed]",
      "text/plain": [
       "<Figure size 600x500 with 2 Axes>"
      ]
     },
     "metadata": {},
     "output_type": "display_data"
    }
   ],
   "source": [
    "import matplotlib.pyplot as plt\n",
    "import seaborn as sns\n",
    "\n",
    "# Plot the confusion matrix\n",
    "plt.figure(figsize=(6, 5))\n",
    "sns.heatmap(cm, annot=True, fmt='g', cmap=\"Blues\", xticklabels=['Normal', 'Attack'], yticklabels=['Normal', 'Attack'])\n",
    "plt.xlabel('Predicted')\n",
    "plt.ylabel('Actual')\n",
    "plt.title('Confusion Matrix')\n",
    "plt.show()\n"
   ]
  },
  {
   "cell_type": "code",
   "execution_count": 66,
   "id": "7e56e287-dd1e-492f-936e-b3d9675aa4e0",
   "metadata": {},
   "outputs": [
    {
     "name": "stdout",
     "output_type": "stream",
     "text": [
      "\u001b[1m2573/2573\u001b[0m \u001b[32m━━━━━━━━━━━━━━━━━━━━\u001b[0m\u001b[37m\u001b[0m \u001b[1m2s\u001b[0m 662us/step\n"
     ]
    },
    {
     "data": {
      "image/png": "[encoded data removed]",
      "text/plain": [
       "<Figure size 800x600 with 1 Axes>"
      ]
     },
     "metadata": {},
     "output_type": "display_data"
    }
   ],
   "source": [
    "from sklearn.metrics import roc_curve, auc\n",
    "\n",
    "# Get the probability predictions\n",
    "y_pred_prob = model.predict(X_test)\n",
    "\n",
    "# Compute the ROC curve\n",
    "fpr, tpr, thresholds = roc_curve(y_test_binary, y_pred_prob)\n",
    "\n",
    "# Compute AUC (Area Under the Curve)\n",
    "roc_auc = auc(fpr, tpr)\n",
    "\n",
    "# Plot the ROC curve\n",
    "plt.figure(figsize=(8, 6))\n",
    "plt.plot(fpr, tpr, color='darkorange', lw=2, label=f'ROC curve (area = {roc_auc:.2f})')\n",
    "plt.plot([0, 1], [0, 1], color='navy', lw=2, linestyle='--')\n",
    "plt.xlim([0.0, 1.0])\n",
    "plt.ylim([0.0, 1.05])\n",
    "plt.xlabel('False Positive Rate')\n",
    "plt.ylabel('True Positive Rate')\n",
    "plt.title('Receiver Operating Characteristic (ROC) Curve')\n",
    "plt.legend(loc=\"lower right\")\n",
    "plt.show()\n"
   ]
  },
  {
   "cell_type": "code",
   "execution_count": null,
   "id": "49302a2c-af75-40ac-b73d-8b808e52f372",
   "metadata": {},
   "outputs": [],
   "source": []
  }
 ],
 "metadata": {
  "kernelspec": {
   "display_name": "Python (tf_env)",
   "language": "python",
   "name": "tf_env"
  },
  "language_info": {
   "codemirror_mode": {
    "name": "ipython",
    "version": 3
   },
   "file_extension": ".py",
   "mimetype": "text/x-python",
   "name": "python",
   "nbconvert_exporter": "python",
   "pygments_lexer": "ipython3",
   "version": "3.12.4"
  }
 },
 "nbformat": 4,
 "nbformat_minor": 5
}
